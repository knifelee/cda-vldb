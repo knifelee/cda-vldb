{
 "cells": [
  {
   "cell_type": "code",
   "execution_count": 1,
   "id": "c22a489d",
   "metadata": {},
   "outputs": [],
   "source": [
    "import os\n",
    "import random\n",
    "import time\n",
    "import collections\n",
    "import json\n",
    "\n",
    "import numpy as np\n",
    "import pandas as pd\n",
    "import pandasql as pdsql\n",
    "import miceforest as mf\n",
    "from warnings import simplefilter\n",
    "from tqdm import tqdm\n",
    "from sklearn.exceptions import ConvergenceWarning\n",
    "simplefilter(\"ignore\", category=ConvergenceWarning)\n",
    "from sklearn.experimental import enable_iterative_imputer\n",
    "from sklearn.impute import SimpleImputer, IterativeImputer\n",
    "\n",
    "from utils.util_preprocess import *\n",
    "#from utils.softimpute import softimpute, cv_softimpute"
   ]
  },
  {
   "cell_type": "markdown",
   "id": "f15c72ed",
   "metadata": {},
   "source": [
    "# Load dataset"
   ]
  },
  {
   "cell_type": "markdown",
   "id": "61991baf",
   "metadata": {},
   "source": [
    "## 1. Initial dataset:   \n",
    "----> df_arr, mapping"
   ]
  },
  {
   "cell_type": "code",
   "execution_count": 2,
   "id": "dac4895f",
   "metadata": {},
   "outputs": [],
   "source": [
    "path_dataset = \"/Users/kaiyuli/Documents/Research/DataMarket/_dataset/\"\n",
    "dataset = ['forest10']\n",
    "\n",
    "# preprocess a dataset\n",
    "# check the initialized schema manually first.\n",
    "df = pd.read_csv(path_dataset + \"TPCDS/original.csv\")\n",
    "#df['education_num'] = df['education_num'].astype('object')\n",
    "df = df.drop('Unnamed: 0', axis=1)\n",
    "# df_arr original table to vectors\n",
    "#         integer remains int64\n",
    "#         float remains float64\n",
    "#         others to category\n",
    "# mapping schema\n",
    "df_arr, mapping = df_2_array(df)\n",
    "# df_arr_new, mapping = df_2_array(df)"
   ]
  },
  {
   "cell_type": "markdown",
   "id": "7abc872d",
   "metadata": {},
   "source": [
    "## 2.EXP settings"
   ]
  },
  {
   "cell_type": "code",
   "execution_count": 3,
   "id": "c443f144",
   "metadata": {},
   "outputs": [],
   "source": [
    "missing_rate = 0.3\n",
    "pattern = 0\n",
    "budget = 0.01\n",
    "\n",
    "multiple_imputing_num = 10 # number of models for multiple imputing\n",
    "discount_factor = 0.8"
   ]
  },
  {
   "cell_type": "markdown",
   "id": "371c965e",
   "metadata": {},
   "source": [
    "## 3. Incomplete Dataset\n",
    "----> df_miss, x_miss, miss_rows, miss_cols"
   ]
  },
  {
   "cell_type": "code",
   "execution_count": 4,
   "id": "5d84d1fc",
   "metadata": {},
   "outputs": [],
   "source": [
    "# do not deep copy df_miss or x_miss\n",
    "# df_miss have the same schema with df_arr\n",
    "#         but all numbers are float64\n",
    "# df_miss and x_miss do not share the same part of memory\n",
    "df_miss = mf.ampute_data(df_arr, perc=missing_rate, random_state=1991)\n",
    "# df_miss = mf.ampute_data(df_arr, variables=[0, 1, 2, 9], perc=missing_rate, random_state=1991)\n",
    "# x_miss = df_miss.to_numpy()\n",
    "# miss_rows, miss_cols = np.where(np.isnan(x_miss))"
   ]
  },
  {
   "cell_type": "code",
   "execution_count": 5,
   "id": "b0fc1ce3",
   "metadata": {},
   "outputs": [
    {
     "data": {
      "text/plain": [
       "(12415727, 1689764)"
      ]
     },
     "execution_count": 5,
     "metadata": {},
     "output_type": "execute_result"
    }
   ],
   "source": [
    "df_miss.isna().sum().sum(), df_arr.isna().sum().sum()"
   ]
  },
  {
   "cell_type": "code",
   "execution_count": 5,
   "id": "78ab6603",
   "metadata": {},
   "outputs": [],
   "source": [
    "def generate_mar(df_input, missing_mapping):\n",
    "    df_copy = df_input.copy()\n",
    "    for pattern in missing_mapping:\n",
    "        mask = df_copy[pattern['obs']] < pattern['delta']\n",
    "        df_copy.loc[mask, pattern['miss']] = np.nan\n",
    "    return df_copy\n",
    "\n",
    "#df_miss = generate_mar(df, [{'obs':'Feature1', 'miss':'Feature2', 'delta':0.5}])"
   ]
  },
  {
   "cell_type": "code",
   "execution_count": 31,
   "id": "dc7b4e38",
   "metadata": {},
   "outputs": [],
   "source": [
    "missing_mapping_mar_TPCDS = [{'obs':'ss_sales_price', 'miss':'ss_quantity', 'delta':15},\n",
    "                  {'obs':'ss_sales_price', 'miss':'ss_wholesale_cost', 'delta':10},\n",
    "                  {'obs':'ss_sales_price', 'miss':'ss_list_price', 'delta':10},\n",
    "                  {'obs':'ss_ext_sales_price', 'miss':'ss_ext_discount_amt', 'delta':500},\n",
    "                  {'obs':'ss_ext_sales_price', 'miss':'ss_ext_wholesale_cost', 'delta':400},\n",
    "                  {'obs':'ss_ext_sales_price', 'miss':'ss_ext_tax', 'delta': 600},\n",
    "                  {'obs':'ss_ext_sales_price', 'miss':'ss_ext_list_price', 'delta':800},\n",
    "                  {'obs':'ss_net_paid', 'miss':'ss_coupon_amt', 'delta':200},\n",
    "                  {'obs':'ss_net_paid', 'miss':'ss_net_paid_inc_tax', 'delta':1000},\n",
    "                  {'obs':'ss_net_paid', 'miss':'ss_net_profit', 'delta':1000},]"
   ]
  },
  {
   "cell_type": "code",
   "execution_count": 55,
   "id": "181d777f",
   "metadata": {},
   "outputs": [],
   "source": [
    "missing_mapping_mnar_TPCDS = [\n",
    "                  {'obs':'ss_wholesale_cost', 'miss':'ss_wholesale_cost', 'delta':20},\n",
    "                  {'obs':'ss_list_price', 'miss':'ss_list_price', 'delta':10},\n",
    "                  {'obs':'ss_sales_price', 'miss':'ss_sales_price', 'delta':20},\n",
    "                  {'obs':'ss_ext_discount_amt', 'miss':'ss_ext_discount_amt', 'delta':500},\n",
    "                  {'obs':'ss_ext_sales_price', 'miss':'ss_ext_sales_price', 'delta':300},\n",
    "                  {'obs':'ss_ext_wholesale_cost', 'miss':'ss_ext_wholesale_cost', 'delta':700},\n",
    "                  {'obs':'ss_net_paid', 'miss':'ss_coupon_amt', 'delta':200},\n",
    "                  {'obs':'ss_net_paid', 'miss':'ss_net_paid_inc_tax', 'delta':1000},\n",
    "                  {'obs':'ss_net_paid', 'miss':'ss_net_profit', 'delta':1200}\n",
    "                  ]"
   ]
  },
  {
   "cell_type": "code",
   "execution_count": 56,
   "id": "74875fca",
   "metadata": {},
   "outputs": [],
   "source": [
    "df_miss = generate_mar(df_arr, missing_mapping_mnar_TPCDS)"
   ]
  },
  {
   "cell_type": "code",
   "execution_count": 7,
   "id": "a6311246",
   "metadata": {},
   "outputs": [
    {
     "data": {
      "text/plain": [
       "(1689764, 1689764, 0.3315701280365265)"
      ]
     },
     "execution_count": 7,
     "metadata": {},
     "output_type": "execute_result"
    }
   ],
   "source": [
    "df.isna().sum().sum(), df_arr.isna().sum().sum(), df_miss.isna().sum().sum()/df_miss.size"
   ]
  },
  {
   "cell_type": "code",
   "execution_count": 6,
   "id": "4e100257",
   "metadata": {},
   "outputs": [
    {
     "data": {
      "text/plain": [
       "ss_quantity              float64\n",
       "ss_wholesale_cost        float64\n",
       "ss_list_price            float64\n",
       "ss_sales_price           float64\n",
       "ss_ext_discount_amt      float64\n",
       "ss_ext_sales_price       float64\n",
       "ss_ext_wholesale_cost    float64\n",
       "ss_ext_list_price        float64\n",
       "ss_ext_tax               float64\n",
       "ss_coupon_amt            float64\n",
       "ss_net_paid              float64\n",
       "ss_net_paid_inc_tax      float64\n",
       "ss_net_profit            float64\n",
       "dtype: object"
      ]
     },
     "execution_count": 6,
     "metadata": {},
     "output_type": "execute_result"
    }
   ],
   "source": [
    "df_miss.dtypes"
   ]
  },
  {
   "cell_type": "markdown",
   "id": "cb2815b9",
   "metadata": {},
   "source": [
    "--> queries"
   ]
  },
  {
   "cell_type": "code",
   "execution_count": 8,
   "id": "b497e109",
   "metadata": {},
   "outputs": [],
   "source": [
    "queries = []\n",
    "with open(path_dataset + \"TPCDS/queries.json\") as f:\n",
    "    for eachline in f:\n",
    "        query = json.loads(eachline.strip('\\n'))\n",
    "        queries.append(query['data'])\n",
    "W = generate_weights(len(queries))"
   ]
  },
  {
   "cell_type": "code",
   "execution_count": 9,
   "id": "6b8d1111",
   "metadata": {},
   "outputs": [
    {
     "data": {
      "text/plain": [
       "18"
      ]
     },
     "execution_count": 9,
     "metadata": {},
     "output_type": "execute_result"
    }
   ],
   "source": [
    "len(queries)"
   ]
  },
  {
   "cell_type": "markdown",
   "id": "fd8d7095",
   "metadata": {},
   "source": [
    "# Real Implementation"
   ]
  },
  {
   "cell_type": "code",
   "execution_count": 10,
   "id": "a4483f82",
   "metadata": {},
   "outputs": [],
   "source": [
    "def query_on_df(qs, df):\n",
    "    df_query = df\n",
    "    for q in qs:\n",
    "        if q['width']==0:\n",
    "            df_query = df_query[df_query[q['col']]==q['center']]\n",
    "        else:\n",
    "            df_query = df_query[(df_query[q['col']]>=q['center']-q['width']/2)&(df_query[q['col']]<=q['center']+q['width']/2)]\n",
    "\n",
    "    return df_query\n",
    "\n",
    "\n",
    "# input: multiple imputors, a single query\n",
    "# output: line numbers of the top-k cells to acquire with maximum utility\n",
    "# input: multiple imputors, multiple queries\n",
    "# output: line numbers of the top-k cells to acquire with maximum utility\n",
    "def get_uncertainty_score(kernel, queries, k=100):\n",
    "    acquire_task = []\n",
    "    for query in queries:\n",
    "        acquire_task_freq = []\n",
    "        for i in range(kernel.dataset_count()):\n",
    "            acquire_task_freq.extend(query_on_df(query, kernel.complete_data(i)).index.values.tolist())\n",
    "        acquire_task_freq.sort()\n",
    "        counter = collections.Counter(acquire_task_freq)\n",
    "        \n",
    "        uncertainty_N = kernel.dataset_count()\n",
    "        acq_task = [(item, count*(uncertainty_N-count)) for item, count in counter.items() if count!=0]\n",
    "        \n",
    "        acquire_task.extend(acq_task)\n",
    "    \n",
    "    freq_dict = {}\n",
    "    for t in acquire_task:\n",
    "        if t[0] not in freq_dict:\n",
    "            freq_dict[t[0]] = 0\n",
    "        freq_dict[t[0]] += t[1]\n",
    "    \n",
    "    #acq_task = counter.most_common(k)\n",
    "    return list(freq_dict.items())\n",
    "\n",
    "def uncertainty_acquisition(df_miss, df_arr, budget, queries, W):\n",
    "    df_miss_copy = df_miss.copy()\n",
    "    budget_units = budget*df_miss.isna().sum().sum() # it is not a integer\n",
    "    \n",
    "    # Create kernels. \n",
    "    kernel = mf.ImputationKernel(\n",
    "      data=df_miss_copy,\n",
    "      datasets=5,\n",
    "      save_all_iterations=False,\n",
    "      random_state=1991,\n",
    "    )\n",
    "\n",
    "    # Run the MICE algorithm for 3 iterations on each of the datasets\n",
    "    kernel.mice(3, verbose=True, min_data_in_leaf = 6)\n",
    "\n",
    "    \n",
    "    acq_task = get_uncertainty_score(kernel, queries, int(budget_units/0.8))\n",
    "    row_indexes = [t[0] for t in acq_task]\n",
    "    df_needed_imputed = df_miss_copy.loc[row_indexes]\n",
    "    costs = get_costs(df_needed_imputed)\n",
    "    \n",
    "    util_per_cost = [(acq_task[i][0], costs[i]/acq_task[i][1]) for i in range(len(costs)) if acq_task[i][1]!=0]\n",
    "    sorted_util_per_cost = sorted(util_per_cost, key=lambda x: x[1])\n",
    "    \n",
    "    additional_indexes = random.sample(list(set(list(df_arr.index))-set(row_indexes)), int(budget_units))\n",
    "    additional_util_per_cost = [(_, 120000) for _ in additional_indexes]\n",
    "    sorted_util_per_cost.extend(additional_util_per_cost)\n",
    "\n",
    "    i = 0       \n",
    "    while budget_units>0:\n",
    "        if i>=len(sorted_util_per_cost):\n",
    "            break\n",
    "        row_ind = sorted_util_per_cost[i][0]\n",
    "        i+=1\n",
    "        miss_cols = np.where(df_miss_copy.iloc[row_ind].isna())[0]\n",
    "        for col in miss_cols:\n",
    "            if col in [0, 1, 2, 9]:\n",
    "                df_miss_copy.iat[row_ind,col] = df_arr.iat[row_ind,col]\n",
    "                budget_units -= 1\n",
    "    \n",
    "    return df_miss_copy\n",
    "\n",
    "\n",
    "\n",
    "\n",
    "# input: multiple imputors, a single query\n",
    "# output: line numbers of the top-k cells to acquire with maximum utility\n",
    "# input: multiple imputors, multiple queries\n",
    "# output: line numbers of the top-k cells to acquire with maximum utility\n",
    "def get_utility_score(kernel, queries, k=100):\n",
    "    acquire_task = []\n",
    "    for query in queries:\n",
    "        for i in range(kernel.dataset_count()):\n",
    "            acquire_task.extend(query_on_df(query, kernel.complete_data(i)).index.values.tolist())\n",
    "    acquire_task.sort()\n",
    "    counter = collections.Counter(acquire_task)\n",
    "    # Get items with non-zero frequency\n",
    "    acq_task = [(item, count) for item, count in counter.items() if count != 0]\n",
    "\n",
    "    #acq_task = counter.most_common(k)\n",
    "  \n",
    "    return acq_task\n",
    "\n",
    "def greedy_and_improve_acquisition(df_miss, df_arr, budget, queries, W):\n",
    "    df_miss_copy = df_miss.copy()\n",
    "    #_rows, _cols = np.where(np.isnan(df_miss.to_numpy()))\n",
    "    budget_units = budget*df_miss.isna().sum().sum() # it is not a integer\n",
    "    \n",
    "    # Create kernels. \n",
    "    kernel = mf.ImputationKernel(\n",
    "      data=df_miss_copy,\n",
    "      datasets=5,\n",
    "      save_all_iterations=False,\n",
    "      random_state=1991,\n",
    "    )\n",
    "\n",
    "    # Run the MICE algorithm for 3 iterations on each of the datasets\n",
    "    kernel.mice(3, verbose=True, min_data_in_leaf = 6)\n",
    "    \n",
    "    acq_task = get_utility_score(kernel, queries, int(budget_units/0.8))\n",
    "    row_indexes = [t[0] for t in acq_task]\n",
    "    df_needed_imputed = df_miss_copy.loc[row_indexes]\n",
    "    costs = get_costs(df_needed_imputed)\n",
    "    \n",
    "    util_per_cost = [(acq_task[i][0], costs[i]/acq_task[i][1]) for i in range(len(costs)) if acq_task[i][1]!=0]\n",
    "    sorted_util_per_cost = sorted(util_per_cost, key=lambda x: x[1])\n",
    "    \n",
    "    additional_indexes = random.sample(list(set(list(df_arr.index))-set(row_indexes)), int(budget_units))\n",
    "    additional_util_per_cost = [(_, 120000) for _ in additional_indexes]\n",
    "    sorted_util_per_cost.extend(additional_util_per_cost)\n",
    "\n",
    "    i = 0\n",
    "    while budget_units>0:\n",
    "        if i>=len(sorted_util_per_cost):\n",
    "            break\n",
    "        row_ind = sorted_util_per_cost[i][0]\n",
    "        i+=1\n",
    "        miss_cols = np.where(df_miss_copy.iloc[row_ind].isna())[0]\n",
    "        for col in miss_cols:\n",
    "            if col in [0, 1, 2, 9]:\n",
    "                df_miss_copy.iat[row_ind,col] = df_arr.iat[row_ind,col]\n",
    "                budget_units -= 1\n",
    "        \n",
    "#             df_miss_copy.iat[row_ind,col] = df_arr.iat[row_ind,col]\n",
    "#         budget_units -= len(miss_cols)*(0.99**len(miss_cols))\n",
    "    \n",
    "    return df_miss_copy\n",
    "\n",
    "# def greedy_and_improve_acquisition(df_miss, df_arr, budget, queries, W):\n",
    "#     df_miss_copy = df_miss.copy()\n",
    "#     _rows, _cols = np.where(np.isnan(df_miss.to_numpy()))\n",
    "#     budget_units = budget*df_miss.isna().sum().sum() # it is not a integer\n",
    "    \n",
    "#     # Create kernels. \n",
    "#     kernel = mf.ImputationKernel(\n",
    "#       data=df_miss_copy,\n",
    "#       datasets=5,\n",
    "#       save_all_iterations=False,\n",
    "#       random_state=1991,\n",
    "#     )\n",
    "\n",
    "#     # Run the MICE algorithm for 3 iterations on each of the datasets\n",
    "#     kernel.mice(3, verbose=True, min_data_in_leaf = 6)\n",
    "    \n",
    "#     acq_task = get_utility_score(kernel, queries, int(budget_units/0.8))\n",
    "#     row_indexes = [t[0] for t in acq_task]\n",
    "#     df_needed_imputed = df_miss_copy.loc[row_indexes]\n",
    "#     costs = get_costs(df_needed_imputed)\n",
    "    \n",
    "#     util_per_cost = [(acq_task[i][0], costs[i]/acq_task[i][1]) for i in range(len(costs))]\n",
    "#     sorted_util_per_cost = sorted(util_per_cost, key=lambda x: x[1])\n",
    "    \n",
    "#     additional_indexes = random.sample(list(set(list(df_arr.index))-set(row_indexes)), int(budget_units))\n",
    "#     additional_util_per_cost = [(_, 10000) for _ in additional_indexes]\n",
    "#     sorted_util_per_cost.extend(additional_util_per_cost)\n",
    "\n",
    "#     i = 0\n",
    "#     while budget_units>0:\n",
    "#         row_ind = sorted_util_per_cost[i][0]\n",
    "#         i+=1\n",
    "#         miss_cols = np.where(df_miss_copy.iloc[row_ind].isna())[0]\n",
    "#         for col in miss_cols:\n",
    "#             df_miss_copy.iat[row_ind,col] = df_arr.iat[row_ind,col]\n",
    "#         budget_units -= len(miss_cols)*(0.99**len(miss_cols))\n",
    "    \n",
    "#     return df_miss_copy\n",
    "\n",
    "def query_by_rounds(df_miss, df_arr, budgets, queries, W):\n",
    "    df_miss_copy = df_miss.copy()\n",
    "    for budget in budgets:\n",
    "        df_miss_copy = greedy_and_improve_acquisition(df_miss_copy, df_arr, budget, queries, W)\n",
    "    \n",
    "    return df_miss_copy\n",
    "\n",
    "def get_acc(queries, acquired_df_miss, df_arr, W):\n",
    "    \n",
    "    formalize_df(acquired_df_miss, mapping, df.keys().to_list())\n",
    "    \n",
    "    pres = 0\n",
    "    rs = 0 \n",
    "    # no difference in evaluation parts\n",
    "    for i, query in tqdm(enumerate(queries)):\n",
    "        # get the dataframe of acquired answer and ground truth\n",
    "        data_product = query_on_df(query, acquired_df_miss)\n",
    "        ground_truth = query_on_df(query, df_arr)\n",
    "        \n",
    "        # get precision\n",
    "        if len(ground_truth)==0:\n",
    "            precision = 1\n",
    "            rmse = 1\n",
    "        else:\n",
    "            ground_truth_indexes = set(ground_truth.index.values.tolist())\n",
    "            data_product_indexes = set(data_product.index.values.tolist())\n",
    "            intersect = ground_truth_indexes.intersection(data_product_indexes)\n",
    "            precision = len(intersect)/len(ground_truth_indexes)\n",
    "\n",
    "            # get rmse = precision * RMSE\n",
    "            indexes_lst = list(intersect)\n",
    "            imputing_error = get_avg_error(df_arr.iloc[indexes_lst], acquired_df_miss.iloc[indexes_lst], mapping)\n",
    "            rmse = precision*(1-imputing_error)\n",
    "        \n",
    "        pres += precision*W[i]\n",
    "        rs += rmse*W[i]\n",
    "        \n",
    "    return pres, rs"
   ]
  },
  {
   "cell_type": "code",
   "execution_count": 12,
   "id": "1ec2b258",
   "metadata": {},
   "outputs": [],
   "source": [
    "times = []\n",
    "precisions = []\n",
    "rmses = []\n",
    "\n",
    "times_imp = []\n",
    "precisions_imp = []\n",
    "rmses_imp = []\n",
    "\n",
    "idx = []\n",
    "for budget in [0]:\n",
    "    \n",
    "    # step 1. modify budget\n",
    "    budget = (budget+1)*0.01 \n",
    "    idx.append(budget)\n",
    "    #budget /= discount_factor\n",
    "    \n",
    "    # step 2. change methods\n",
    "    # acquisition results : acquired_df_miss\n",
    "    st = time.time()\n",
    "    acquired_df_miss = query_by_rounds(df_miss, df_arr, [budget/3, budget/3, budget/3], queries, W)\n",
    "    et = time.time()\n",
    "    \n",
    "    acquired_df_miss_improved = query_by_rounds(acquired_df_miss, df_arr, [0.3 * budget], queries, W)\n",
    "    et1 = time.time()\n",
    "    \n",
    "    pres, rs = get_acc(queries, acquired_df_miss, df_arr, W)\n",
    "    pres_imporved, rs_improved = get_acc(queries, acquired_df_miss_improved, df_arr, W)\n",
    "    \n",
    "    times.append(et-st)\n",
    "    precisions.append(pres)\n",
    "    rmses.append(rs)\n",
    "    \n",
    "    times_imp.append(et1-st)\n",
    "    precisions_imp.append(pres_imporved)\n",
    "    rmses_imp.append(rs_improved)\n",
    "    print(budget)\n",
    "\n",
    "\n",
    "result = pd.DataFrame({\"time\": times, \"precision\": precisions, \"rmse\":rmses}, index=idx)\n",
    "result.to_csv(\"Greedy.csv\")  # step 3. change the file name\n",
    "\n",
    "result = pd.DataFrame({\"time\": times_imp, \"precision\": precisions_imp, \"rmse\":rmses_imp}, index=idx)\n",
    "result.to_csv(\"Improved.csv\") "
   ]
  },
  {
   "cell_type": "code",
   "execution_count": 11,
   "id": "28bde3c5",
   "metadata": {},
   "outputs": [
    {
     "name": "stdout",
     "output_type": "stream",
     "text": [
      "Initialized logger with name mice 1-3\n",
      "Dataset 0\n",
      "1  | ss_net_paid | ss_sales_price | ss_coupon_amt | ss_ext_discount_amt | ss_ext_list_price | ss_ext_wholesale_cost | ss_list_price | ss_net_profit | ss_ext_tax | ss_net_paid_inc_tax | ss_wholesale_cost | ss_ext_sales_price | ss_quantity\n",
      "2  | ss_net_paid | ss_sales_price | ss_coupon_amt | ss_ext_discount_amt | ss_ext_list_price | ss_ext_wholesale_cost | ss_list_price | ss_net_profit | ss_ext_tax | ss_net_paid_inc_tax | ss_wholesale_cost | ss_ext_sales_price | ss_quantity\n",
      "3  | ss_net_paid | ss_sales_price | ss_coupon_amt | ss_ext_discount_amt | ss_ext_list_price | ss_ext_wholesale_cost | ss_list_price | ss_net_profit | ss_ext_tax | ss_net_paid_inc_tax | ss_wholesale_cost | ss_ext_sales_price | ss_quantity\n",
      "Dataset 1\n",
      "1  | ss_net_paid | ss_sales_price | ss_coupon_amt | ss_ext_discount_amt | ss_ext_list_price | ss_ext_wholesale_cost | ss_list_price | ss_net_profit | ss_ext_tax | ss_net_paid_inc_tax | ss_wholesale_cost | ss_ext_sales_price | ss_quantity\n",
      "2  | ss_net_paid | ss_sales_price | ss_coupon_amt | ss_ext_discount_amt | ss_ext_list_price | ss_ext_wholesale_cost | ss_list_price | ss_net_profit | ss_ext_tax | ss_net_paid_inc_tax | ss_wholesale_cost | ss_ext_sales_price | ss_quantity\n",
      "3  | ss_net_paid | ss_sales_price | ss_coupon_amt | ss_ext_discount_amt | ss_ext_list_price | ss_ext_wholesale_cost | ss_list_price | ss_net_profit | ss_ext_tax | ss_net_paid_inc_tax | ss_wholesale_cost | ss_ext_sales_price | ss_quantity\n",
      "Dataset 2\n",
      "1  | ss_net_paid | ss_sales_price | ss_coupon_amt | ss_ext_discount_amt | ss_ext_list_price | ss_ext_wholesale_cost | ss_list_price | ss_net_profit | ss_ext_tax | ss_net_paid_inc_tax | ss_wholesale_cost | ss_ext_sales_price | ss_quantity\n",
      "2  | ss_net_paid | ss_sales_price | ss_coupon_amt | ss_ext_discount_amt | ss_ext_list_price | ss_ext_wholesale_cost | ss_list_price | ss_net_profit | ss_ext_tax | ss_net_paid_inc_tax | ss_wholesale_cost | ss_ext_sales_price | ss_quantity\n",
      "3  | ss_net_paid | ss_sales_price | ss_coupon_amt | ss_ext_discount_amt | ss_ext_list_price | ss_ext_wholesale_cost | ss_list_price | ss_net_profit | ss_ext_tax | ss_net_paid_inc_tax | ss_wholesale_cost | ss_ext_sales_price | ss_quantity\n",
      "Dataset 3\n",
      "1  | ss_net_paid | ss_sales_price | ss_coupon_amt | ss_ext_discount_amt | ss_ext_list_price | ss_ext_wholesale_cost | ss_list_price | ss_net_profit | ss_ext_tax | ss_net_paid_inc_tax | ss_wholesale_cost | ss_ext_sales_price | ss_quantity\n",
      "2  | ss_net_paid | ss_sales_price | ss_coupon_amt | ss_ext_discount_amt | ss_ext_list_price | ss_ext_wholesale_cost | ss_list_price | ss_net_profit | ss_ext_tax | ss_net_paid_inc_tax | ss_wholesale_cost | ss_ext_sales_price | ss_quantity\n",
      "3  | ss_net_paid | ss_sales_price | ss_coupon_amt | ss_ext_discount_amt | ss_ext_list_price | ss_ext_wholesale_cost | ss_list_price | ss_net_profit | ss_ext_tax | ss_net_paid_inc_tax | ss_wholesale_cost | ss_ext_sales_price | ss_quantity\n",
      "Dataset 4\n",
      "1  | ss_net_paid | ss_sales_price | ss_coupon_amt | ss_ext_discount_amt | ss_ext_list_price | ss_ext_wholesale_cost | ss_list_price | ss_net_profit | ss_ext_tax | ss_net_paid_inc_tax | ss_wholesale_cost | ss_ext_sales_price | ss_quantity\n",
      "2  | ss_net_paid | ss_sales_price | ss_coupon_amt | ss_ext_discount_amt | ss_ext_list_price | ss_ext_wholesale_cost | ss_list_price | ss_net_profit | ss_ext_tax | ss_net_paid_inc_tax | ss_wholesale_cost | ss_ext_sales_price | ss_quantity\n",
      "3  | ss_net_paid | ss_sales_price | ss_coupon_amt | ss_ext_discount_amt | ss_ext_list_price | ss_ext_wholesale_cost | ss_list_price | ss_net_profit | ss_ext_tax | ss_net_paid_inc_tax | ss_wholesale_cost | ss_ext_sales_price | ss_quantity\n"
     ]
    },
    {
     "name": "stderr",
     "output_type": "stream",
     "text": [
      "18it [00:00, 38.51it/s]\n"
     ]
    },
    {
     "name": "stdout",
     "output_type": "stream",
     "text": [
      "0.5410335395904831\n",
      "Initialized logger with name mice 1-3\n",
      "Dataset 0\n",
      "1  | ss_coupon_amt | ss_list_price | ss_wholesale_cost | ss_net_paid | ss_sales_price | ss_ext_discount_amt | ss_ext_list_price | ss_quantity | ss_ext_wholesale_cost | ss_net_profit | ss_ext_tax | ss_net_paid_inc_tax | ss_ext_sales_price\n",
      "2  | ss_coupon_amt | ss_list_price | ss_wholesale_cost | ss_net_paid | ss_sales_price | ss_ext_discount_amt | ss_ext_list_price | ss_quantity | ss_ext_wholesale_cost | ss_net_profit | ss_ext_tax | ss_net_paid_inc_tax | ss_ext_sales_price\n",
      "3  | ss_coupon_amt | ss_list_price | ss_wholesale_cost | ss_net_paid | ss_sales_price | ss_ext_discount_amt | ss_ext_list_price | ss_quantity | ss_ext_wholesale_cost | ss_net_profit | ss_ext_tax | ss_net_paid_inc_tax | ss_ext_sales_price\n",
      "Dataset 1\n",
      "1  | ss_coupon_amt | ss_list_price | ss_wholesale_cost | ss_net_paid | ss_sales_price | ss_ext_discount_amt | ss_ext_list_price | ss_quantity | ss_ext_wholesale_cost | ss_net_profit | ss_ext_tax | ss_net_paid_inc_tax | ss_ext_sales_price\n",
      "2  | ss_coupon_amt | ss_list_price | ss_wholesale_cost | ss_net_paid | ss_sales_price | ss_ext_discount_amt | ss_ext_list_price | ss_quantity | ss_ext_wholesale_cost | ss_net_profit | ss_ext_tax | ss_net_paid_inc_tax | ss_ext_sales_price\n",
      "3  | ss_coupon_amt | ss_list_price | ss_wholesale_cost | ss_net_paid | ss_sales_price | ss_ext_discount_amt | ss_ext_list_price | ss_quantity | ss_ext_wholesale_cost | ss_net_profit | ss_ext_tax | ss_net_paid_inc_tax | ss_ext_sales_price\n",
      "Dataset 2\n",
      "1  | ss_coupon_amt | ss_list_price | ss_wholesale_cost | ss_net_paid | ss_sales_price | ss_ext_discount_amt | ss_ext_list_price | ss_quantity | ss_ext_wholesale_cost | ss_net_profit | ss_ext_tax | ss_net_paid_inc_tax | ss_ext_sales_price\n",
      "2  | ss_coupon_amt | ss_list_price | ss_wholesale_cost | ss_net_paid | ss_sales_price | ss_ext_discount_amt | ss_ext_list_price | ss_quantity | ss_ext_wholesale_cost | ss_net_profit | ss_ext_tax | ss_net_paid_inc_tax | ss_ext_sales_price\n",
      "3  | ss_coupon_amt | ss_list_price | ss_wholesale_cost | ss_net_paid | ss_sales_price | ss_ext_discount_amt | ss_ext_list_price | ss_quantity | ss_ext_wholesale_cost | ss_net_profit | ss_ext_tax | ss_net_paid_inc_tax | ss_ext_sales_price\n",
      "Dataset 3\n",
      "1  | ss_coupon_amt | ss_list_price | ss_wholesale_cost | ss_net_paid | ss_sales_price | ss_ext_discount_amt | ss_ext_list_price | ss_quantity | ss_ext_wholesale_cost | ss_net_profit | ss_ext_tax | ss_net_paid_inc_tax | ss_ext_sales_price\n",
      "2  | ss_coupon_amt | ss_list_price | ss_wholesale_cost | ss_net_paid | ss_sales_price | ss_ext_discount_amt | ss_ext_list_price | ss_quantity | ss_ext_wholesale_cost | ss_net_profit | ss_ext_tax | ss_net_paid_inc_tax | ss_ext_sales_price\n",
      "3  | ss_coupon_amt | ss_list_price | ss_wholesale_cost | ss_net_paid | ss_sales_price | ss_ext_discount_amt | ss_ext_list_price | ss_quantity | ss_ext_wholesale_cost | ss_net_profit | ss_ext_tax | ss_net_paid_inc_tax | ss_ext_sales_price\n",
      "Dataset 4\n",
      "1  | ss_coupon_amt | ss_list_price | ss_wholesale_cost | ss_net_paid | ss_sales_price | ss_ext_discount_amt | ss_ext_list_price | ss_quantity | ss_ext_wholesale_cost | ss_net_profit | ss_ext_tax | ss_net_paid_inc_tax | ss_ext_sales_price\n",
      "2  | ss_coupon_amt | ss_list_price | ss_wholesale_cost | ss_net_paid | ss_sales_price | ss_ext_discount_amt | ss_ext_list_price | ss_quantity | ss_ext_wholesale_cost | ss_net_profit | ss_ext_tax | ss_net_paid_inc_tax | ss_ext_sales_price\n",
      "3  | ss_coupon_amt | ss_list_price | ss_wholesale_cost | ss_net_paid | ss_sales_price | ss_ext_discount_amt | ss_ext_list_price | ss_quantity | ss_ext_wholesale_cost | ss_net_profit | ss_ext_tax | ss_net_paid_inc_tax | ss_ext_sales_price\n"
     ]
    },
    {
     "name": "stderr",
     "output_type": "stream",
     "text": [
      "18it [00:00, 35.45it/s]\n"
     ]
    },
    {
     "name": "stdout",
     "output_type": "stream",
     "text": [
      "0.5605514167580176\n",
      "Initialized logger with name mice 1-3\n",
      "Dataset 0\n",
      "1  | ss_coupon_amt | ss_list_price | ss_wholesale_cost | ss_quantity | ss_net_paid | ss_sales_price | ss_ext_discount_amt | ss_ext_list_price | ss_ext_wholesale_cost | ss_net_profit | ss_ext_tax | ss_net_paid_inc_tax | ss_ext_sales_price\n",
      "2  | ss_coupon_amt | ss_list_price | ss_wholesale_cost | ss_quantity | ss_net_paid | ss_sales_price | ss_ext_discount_amt | ss_ext_list_price | ss_ext_wholesale_cost | ss_net_profit | ss_ext_tax | ss_net_paid_inc_tax | ss_ext_sales_price\n",
      "3  | ss_coupon_amt | ss_list_price | ss_wholesale_cost | ss_quantity | ss_net_paid | ss_sales_price | ss_ext_discount_amt | ss_ext_list_price | ss_ext_wholesale_cost | ss_net_profit | ss_ext_tax | ss_net_paid_inc_tax | ss_ext_sales_price\n",
      "Dataset 1\n",
      "1  | ss_coupon_amt | ss_list_price | ss_wholesale_cost | ss_quantity | ss_net_paid | ss_sales_price | ss_ext_discount_amt | ss_ext_list_price | ss_ext_wholesale_cost | ss_net_profit | ss_ext_tax | ss_net_paid_inc_tax | ss_ext_sales_price\n",
      "2  | ss_coupon_amt | ss_list_price | ss_wholesale_cost | ss_quantity | ss_net_paid | ss_sales_price | ss_ext_discount_amt | ss_ext_list_price | ss_ext_wholesale_cost | ss_net_profit | ss_ext_tax | ss_net_paid_inc_tax | ss_ext_sales_price\n",
      "3  | ss_coupon_amt | ss_list_price | ss_wholesale_cost | ss_quantity | ss_net_paid | ss_sales_price | ss_ext_discount_amt | ss_ext_list_price | ss_ext_wholesale_cost | ss_net_profit | ss_ext_tax | ss_net_paid_inc_tax | ss_ext_sales_price\n",
      "Dataset 2\n",
      "1  | ss_coupon_amt | ss_list_price | ss_wholesale_cost | ss_quantity | ss_net_paid | ss_sales_price | ss_ext_discount_amt | ss_ext_list_price | ss_ext_wholesale_cost | ss_net_profit | ss_ext_tax | ss_net_paid_inc_tax | ss_ext_sales_price\n",
      "2  | ss_coupon_amt | ss_list_price | ss_wholesale_cost | ss_quantity | ss_net_paid | ss_sales_price | ss_ext_discount_amt | ss_ext_list_price | ss_ext_wholesale_cost | ss_net_profit | ss_ext_tax | ss_net_paid_inc_tax | ss_ext_sales_price\n",
      "3  | ss_coupon_amt | ss_list_price | ss_wholesale_cost | ss_quantity | ss_net_paid | ss_sales_price | ss_ext_discount_amt | ss_ext_list_price | ss_ext_wholesale_cost | ss_net_profit | ss_ext_tax | ss_net_paid_inc_tax | ss_ext_sales_price\n",
      "Dataset 3\n",
      "1  | ss_coupon_amt | ss_list_price | ss_wholesale_cost | ss_quantity | ss_net_paid | ss_sales_price | ss_ext_discount_amt | ss_ext_list_price | ss_ext_wholesale_cost | ss_net_profit | ss_ext_tax | ss_net_paid_inc_tax | ss_ext_sales_price\n",
      "2  | ss_coupon_amt | ss_list_price | ss_wholesale_cost | ss_quantity | ss_net_paid | ss_sales_price | ss_ext_discount_amt | ss_ext_list_price | ss_ext_wholesale_cost | ss_net_profit | ss_ext_tax | ss_net_paid_inc_tax | ss_ext_sales_price\n",
      "3  | ss_coupon_amt | ss_list_price | ss_wholesale_cost | ss_quantity | ss_net_paid | ss_sales_price | ss_ext_discount_amt | ss_ext_list_price | ss_ext_wholesale_cost | ss_net_profit | ss_ext_tax | ss_net_paid_inc_tax | ss_ext_sales_price\n",
      "Dataset 4\n",
      "1  | ss_coupon_amt | ss_list_price | ss_wholesale_cost | ss_quantity | ss_net_paid | ss_sales_price | ss_ext_discount_amt | ss_ext_list_price | ss_ext_wholesale_cost | ss_net_profit | ss_ext_tax | ss_net_paid_inc_tax | ss_ext_sales_price\n",
      "2  | ss_coupon_amt | ss_list_price | ss_wholesale_cost | ss_quantity | ss_net_paid | ss_sales_price | ss_ext_discount_amt | ss_ext_list_price | ss_ext_wholesale_cost | ss_net_profit | ss_ext_tax | ss_net_paid_inc_tax | ss_ext_sales_price\n",
      "3  | ss_coupon_amt | ss_list_price | ss_wholesale_cost | ss_quantity | ss_net_paid | ss_sales_price | ss_ext_discount_amt | ss_ext_list_price | ss_ext_wholesale_cost | ss_net_profit | ss_ext_tax | ss_net_paid_inc_tax | ss_ext_sales_price\n"
     ]
    },
    {
     "name": "stderr",
     "output_type": "stream",
     "text": [
      "18it [00:00, 36.51it/s]\n"
     ]
    },
    {
     "name": "stdout",
     "output_type": "stream",
     "text": [
      "0.5897115251820036\n",
      "Initialized logger with name mice 1-3\n",
      "Dataset 0\n",
      "1  | ss_coupon_amt | ss_list_price | ss_wholesale_cost | ss_quantity | ss_net_paid | ss_sales_price | ss_ext_discount_amt | ss_ext_list_price | ss_ext_wholesale_cost | ss_net_profit | ss_ext_tax | ss_net_paid_inc_tax | ss_ext_sales_price\n",
      "2  | ss_coupon_amt | ss_list_price | ss_wholesale_cost | ss_quantity | ss_net_paid | ss_sales_price | ss_ext_discount_amt | ss_ext_list_price | ss_ext_wholesale_cost | ss_net_profit | ss_ext_tax | ss_net_paid_inc_tax | ss_ext_sales_price\n",
      "3  | ss_coupon_amt | ss_list_price | ss_wholesale_cost | ss_quantity | ss_net_paid | ss_sales_price | ss_ext_discount_amt | ss_ext_list_price | ss_ext_wholesale_cost | ss_net_profit | ss_ext_tax | ss_net_paid_inc_tax | ss_ext_sales_price\n",
      "Dataset 1\n",
      "1  | ss_coupon_amt | ss_list_price | ss_wholesale_cost | ss_quantity | ss_net_paid | ss_sales_price | ss_ext_discount_amt | ss_ext_list_price | ss_ext_wholesale_cost | ss_net_profit | ss_ext_tax | ss_net_paid_inc_tax | ss_ext_sales_price\n",
      "2  | ss_coupon_amt | ss_list_price | ss_wholesale_cost | ss_quantity | ss_net_paid | ss_sales_price | ss_ext_discount_amt | ss_ext_list_price | ss_ext_wholesale_cost | ss_net_profit | ss_ext_tax | ss_net_paid_inc_tax | ss_ext_sales_price\n",
      "3  | ss_coupon_amt | ss_list_price | ss_wholesale_cost | ss_quantity | ss_net_paid | ss_sales_price | ss_ext_discount_amt | ss_ext_list_price | ss_ext_wholesale_cost | ss_net_profit | ss_ext_tax | ss_net_paid_inc_tax | ss_ext_sales_price\n",
      "Dataset 2\n",
      "1  | ss_coupon_amt | ss_list_price | ss_wholesale_cost | ss_quantity | ss_net_paid | ss_sales_price | ss_ext_discount_amt | ss_ext_list_price | ss_ext_wholesale_cost | ss_net_profit | ss_ext_tax | ss_net_paid_inc_tax | ss_ext_sales_price\n",
      "2  | ss_coupon_amt | ss_list_price | ss_wholesale_cost | ss_quantity | ss_net_paid | ss_sales_price | ss_ext_discount_amt | ss_ext_list_price | ss_ext_wholesale_cost | ss_net_profit | ss_ext_tax | ss_net_paid_inc_tax | ss_ext_sales_price\n",
      "3  | ss_coupon_amt | ss_list_price | ss_wholesale_cost | ss_quantity | ss_net_paid | ss_sales_price | ss_ext_discount_amt | ss_ext_list_price | ss_ext_wholesale_cost | ss_net_profit | ss_ext_tax | ss_net_paid_inc_tax | ss_ext_sales_price\n",
      "Dataset 3\n",
      "1  | ss_coupon_amt | ss_list_price | ss_wholesale_cost | ss_quantity | ss_net_paid | ss_sales_price | ss_ext_discount_amt | ss_ext_list_price | ss_ext_wholesale_cost | ss_net_profit | ss_ext_tax | ss_net_paid_inc_tax | ss_ext_sales_price\n",
      "2  | ss_coupon_amt | ss_list_price | ss_wholesale_cost | ss_quantity | ss_net_paid | ss_sales_price | ss_ext_discount_amt | ss_ext_list_price | ss_ext_wholesale_cost | ss_net_profit | ss_ext_tax | ss_net_paid_inc_tax | ss_ext_sales_price\n",
      "3  | ss_coupon_amt | ss_list_price | ss_wholesale_cost | ss_quantity | ss_net_paid | ss_sales_price | ss_ext_discount_amt | ss_ext_list_price | ss_ext_wholesale_cost | ss_net_profit | ss_ext_tax | ss_net_paid_inc_tax | ss_ext_sales_price\n",
      "Dataset 4\n",
      "1  | ss_coupon_amt | ss_list_price | ss_wholesale_cost | ss_quantity | ss_net_paid | ss_sales_price | ss_ext_discount_amt | ss_ext_list_price | ss_ext_wholesale_cost | ss_net_profit | ss_ext_tax | ss_net_paid_inc_tax | ss_ext_sales_price\n",
      "2  | ss_coupon_amt | ss_list_price | ss_wholesale_cost | ss_quantity | ss_net_paid | ss_sales_price | ss_ext_discount_amt | ss_ext_list_price | ss_ext_wholesale_cost | ss_net_profit | ss_ext_tax | ss_net_paid_inc_tax | ss_ext_sales_price\n",
      "3  | ss_coupon_amt | ss_list_price | ss_wholesale_cost | ss_quantity | ss_net_paid | ss_sales_price | ss_ext_discount_amt | ss_ext_list_price | ss_ext_wholesale_cost | ss_net_profit | ss_ext_tax | ss_net_paid_inc_tax | ss_ext_sales_price\n"
     ]
    },
    {
     "name": "stderr",
     "output_type": "stream",
     "text": [
      "18it [00:00, 38.98it/s]\n"
     ]
    },
    {
     "name": "stdout",
     "output_type": "stream",
     "text": [
      "0.6192249392485143\n",
      "Initialized logger with name mice 1-3\n",
      "Dataset 0\n",
      "1  | ss_coupon_amt | ss_list_price | ss_wholesale_cost | ss_quantity | ss_net_paid | ss_sales_price | ss_ext_discount_amt | ss_ext_list_price | ss_ext_wholesale_cost | ss_net_profit | ss_ext_tax | ss_net_paid_inc_tax | ss_ext_sales_price\n",
      "2  | ss_coupon_amt | ss_list_price | ss_wholesale_cost | ss_quantity | ss_net_paid | ss_sales_price | ss_ext_discount_amt | ss_ext_list_price | ss_ext_wholesale_cost | ss_net_profit | ss_ext_tax | ss_net_paid_inc_tax | ss_ext_sales_price\n",
      "3  | ss_coupon_amt | ss_list_price | ss_wholesale_cost | ss_quantity | ss_net_paid | ss_sales_price | ss_ext_discount_amt | ss_ext_list_price | ss_ext_wholesale_cost | ss_net_profit | ss_ext_tax | ss_net_paid_inc_tax | ss_ext_sales_price\n",
      "Dataset 1\n",
      "1  | ss_coupon_amt | ss_list_price | ss_wholesale_cost | ss_quantity | ss_net_paid | ss_sales_price | ss_ext_discount_amt | ss_ext_list_price | ss_ext_wholesale_cost | ss_net_profit | ss_ext_tax | ss_net_paid_inc_tax | ss_ext_sales_price\n",
      "2  | ss_coupon_amt | ss_list_price | ss_wholesale_cost | ss_quantity | ss_net_paid | ss_sales_price | ss_ext_discount_amt | ss_ext_list_price | ss_ext_wholesale_cost | ss_net_profit | ss_ext_tax | ss_net_paid_inc_tax | ss_ext_sales_price\n",
      "3  | ss_coupon_amt | ss_list_price | ss_wholesale_cost | ss_quantity | ss_net_paid | ss_sales_price | ss_ext_discount_amt | ss_ext_list_price | ss_ext_wholesale_cost | ss_net_profit | ss_ext_tax | ss_net_paid_inc_tax | ss_ext_sales_price\n",
      "Dataset 2\n",
      "1  | ss_coupon_amt | ss_list_price | ss_wholesale_cost | ss_quantity | ss_net_paid | ss_sales_price | ss_ext_discount_amt | ss_ext_list_price | ss_ext_wholesale_cost | ss_net_profit | ss_ext_tax | ss_net_paid_inc_tax | ss_ext_sales_price\n",
      "2  | ss_coupon_amt | ss_list_price | ss_wholesale_cost | ss_quantity | ss_net_paid | ss_sales_price | ss_ext_discount_amt | ss_ext_list_price | ss_ext_wholesale_cost | ss_net_profit | ss_ext_tax | ss_net_paid_inc_tax | ss_ext_sales_price\n",
      "3  | ss_coupon_amt | ss_list_price | ss_wholesale_cost | ss_quantity | ss_net_paid | ss_sales_price | ss_ext_discount_amt | ss_ext_list_price | ss_ext_wholesale_cost | ss_net_profit | ss_ext_tax | ss_net_paid_inc_tax | ss_ext_sales_price\n",
      "Dataset 3\n",
      "1  | ss_coupon_amt | ss_list_price | ss_wholesale_cost | ss_quantity | ss_net_paid | ss_sales_price | ss_ext_discount_amt | ss_ext_list_price | ss_ext_wholesale_cost | ss_net_profit | ss_ext_tax | ss_net_paid_inc_tax | ss_ext_sales_price\n",
      "2  | ss_coupon_amt | ss_list_price | ss_wholesale_cost | ss_quantity | ss_net_paid | ss_sales_price | ss_ext_discount_amt | ss_ext_list_price | ss_ext_wholesale_cost | ss_net_profit | ss_ext_tax | ss_net_paid_inc_tax | ss_ext_sales_price\n",
      "3  | ss_coupon_amt | ss_list_price | ss_wholesale_cost | ss_quantity | ss_net_paid | ss_sales_price | ss_ext_discount_amt | ss_ext_list_price | ss_ext_wholesale_cost | ss_net_profit | ss_ext_tax | ss_net_paid_inc_tax | ss_ext_sales_price\n",
      "Dataset 4\n",
      "1  | ss_coupon_amt | ss_list_price | ss_wholesale_cost | ss_quantity | ss_net_paid | ss_sales_price | ss_ext_discount_amt | ss_ext_list_price | ss_ext_wholesale_cost | ss_net_profit | ss_ext_tax | ss_net_paid_inc_tax | ss_ext_sales_price\n",
      "2  | ss_coupon_amt | ss_list_price | ss_wholesale_cost | ss_quantity | ss_net_paid | ss_sales_price | ss_ext_discount_amt | ss_ext_list_price | ss_ext_wholesale_cost | ss_net_profit | ss_ext_tax | ss_net_paid_inc_tax | ss_ext_sales_price\n",
      "3  | ss_coupon_amt | ss_list_price | ss_wholesale_cost | ss_quantity | ss_net_paid | ss_sales_price | ss_ext_discount_amt | ss_ext_list_price | ss_ext_wholesale_cost | ss_net_profit | ss_ext_tax | ss_net_paid_inc_tax | ss_ext_sales_price\n"
     ]
    },
    {
     "name": "stderr",
     "output_type": "stream",
     "text": [
      "18it [00:00, 37.29it/s]\n"
     ]
    },
    {
     "name": "stdout",
     "output_type": "stream",
     "text": [
      "0.6517292926747551\n",
      "Initialized logger with name mice 1-3\n",
      "Dataset 0\n",
      "1  | ss_coupon_amt | ss_wholesale_cost | ss_list_price | ss_quantity | ss_net_paid | ss_sales_price | ss_ext_discount_amt | ss_ext_list_price | ss_ext_wholesale_cost | ss_net_profit | ss_ext_tax | ss_net_paid_inc_tax | ss_ext_sales_price\n",
      "2  | ss_coupon_amt | ss_wholesale_cost | ss_list_price | ss_quantity | ss_net_paid | ss_sales_price | ss_ext_discount_amt | ss_ext_list_price | ss_ext_wholesale_cost | ss_net_profit | ss_ext_tax | ss_net_paid_inc_tax | ss_ext_sales_price\n",
      "3  | ss_coupon_amt | ss_wholesale_cost | ss_list_price | ss_quantity | ss_net_paid | ss_sales_price | ss_ext_discount_amt | ss_ext_list_price | ss_ext_wholesale_cost | ss_net_profit | ss_ext_tax | ss_net_paid_inc_tax | ss_ext_sales_price\n",
      "Dataset 1\n",
      "1  | ss_coupon_amt | ss_wholesale_cost | ss_list_price | ss_quantity | ss_net_paid | ss_sales_price | ss_ext_discount_amt | ss_ext_list_price | ss_ext_wholesale_cost | ss_net_profit | ss_ext_tax | ss_net_paid_inc_tax | ss_ext_sales_price\n",
      "2  | ss_coupon_amt | ss_wholesale_cost | ss_list_price | ss_quantity | ss_net_paid | ss_sales_price | ss_ext_discount_amt | ss_ext_list_price | ss_ext_wholesale_cost | ss_net_profit | ss_ext_tax | ss_net_paid_inc_tax | ss_ext_sales_price\n",
      "3  | ss_coupon_amt | ss_wholesale_cost | ss_list_price | ss_quantity | ss_net_paid | ss_sales_price | ss_ext_discount_amt | ss_ext_list_price | ss_ext_wholesale_cost | ss_net_profit | ss_ext_tax | ss_net_paid_inc_tax | ss_ext_sales_price\n",
      "Dataset 2\n",
      "1  | ss_coupon_amt | ss_wholesale_cost | ss_list_price | ss_quantity | ss_net_paid | ss_sales_price | ss_ext_discount_amt | ss_ext_list_price | ss_ext_wholesale_cost | ss_net_profit | ss_ext_tax | ss_net_paid_inc_tax | ss_ext_sales_price\n",
      "2  | ss_coupon_amt | ss_wholesale_cost | ss_list_price | ss_quantity | ss_net_paid | ss_sales_price | ss_ext_discount_amt | ss_ext_list_price | ss_ext_wholesale_cost | ss_net_profit | ss_ext_tax | ss_net_paid_inc_tax | ss_ext_sales_price\n",
      "3  | ss_coupon_amt | ss_wholesale_cost | ss_list_price | ss_quantity | ss_net_paid | ss_sales_price | ss_ext_discount_amt | ss_ext_list_price | ss_ext_wholesale_cost | ss_net_profit | ss_ext_tax | ss_net_paid_inc_tax | ss_ext_sales_price\n",
      "Dataset 3\n",
      "1  | ss_coupon_amt | ss_wholesale_cost | ss_list_price | ss_quantity | ss_net_paid | ss_sales_price | ss_ext_discount_amt | ss_ext_list_price | ss_ext_wholesale_cost | ss_net_profit | ss_ext_tax | ss_net_paid_inc_tax | ss_ext_sales_price\n",
      "2  | ss_coupon_amt | ss_wholesale_cost | ss_list_price | ss_quantity | ss_net_paid | ss_sales_price | ss_ext_discount_amt | ss_ext_list_price | ss_ext_wholesale_cost | ss_net_profit | ss_ext_tax | ss_net_paid_inc_tax | ss_ext_sales_price\n",
      "3  | ss_coupon_amt | ss_wholesale_cost | ss_list_price | ss_quantity | ss_net_paid | ss_sales_price | ss_ext_discount_amt | ss_ext_list_price | ss_ext_wholesale_cost | ss_net_profit | ss_ext_tax | ss_net_paid_inc_tax | ss_ext_sales_price\n",
      "Dataset 4\n",
      "1  | ss_coupon_amt | ss_wholesale_cost | ss_list_price | ss_quantity | ss_net_paid | ss_sales_price | ss_ext_discount_amt | ss_ext_list_price | ss_ext_wholesale_cost | ss_net_profit | ss_ext_tax | ss_net_paid_inc_tax | ss_ext_sales_price\n",
      "2  | ss_coupon_amt | ss_wholesale_cost | ss_list_price | ss_quantity | ss_net_paid | ss_sales_price | ss_ext_discount_amt | ss_ext_list_price | ss_ext_wholesale_cost | ss_net_profit | ss_ext_tax | ss_net_paid_inc_tax | ss_ext_sales_price\n",
      "3  | ss_coupon_amt | ss_wholesale_cost | ss_list_price | ss_quantity | ss_net_paid | ss_sales_price | ss_ext_discount_amt | ss_ext_list_price | ss_ext_wholesale_cost | ss_net_profit | ss_ext_tax | ss_net_paid_inc_tax | ss_ext_sales_price\n"
     ]
    },
    {
     "name": "stderr",
     "output_type": "stream",
     "text": [
      "18it [00:00, 37.53it/s]\n"
     ]
    },
    {
     "name": "stdout",
     "output_type": "stream",
     "text": [
      "0.6737722154435062\n",
      "Initialized logger with name mice 1-3\n",
      "Dataset 0\n",
      "1  | ss_coupon_amt | ss_wholesale_cost | ss_list_price | ss_quantity | ss_net_paid | ss_sales_price | ss_ext_discount_amt | ss_ext_list_price | ss_ext_wholesale_cost | ss_net_profit | ss_ext_tax | ss_net_paid_inc_tax | ss_ext_sales_price\n",
      "2  | ss_coupon_amt | ss_wholesale_cost | ss_list_price | ss_quantity | ss_net_paid | ss_sales_price | ss_ext_discount_amt | ss_ext_list_price | ss_ext_wholesale_cost | ss_net_profit | ss_ext_tax | ss_net_paid_inc_tax | ss_ext_sales_price\n",
      "3  | ss_coupon_amt | ss_wholesale_cost | ss_list_price | ss_quantity | ss_net_paid | ss_sales_price | ss_ext_discount_amt | ss_ext_list_price | ss_ext_wholesale_cost | ss_net_profit | ss_ext_tax | ss_net_paid_inc_tax | ss_ext_sales_price\n",
      "Dataset 1\n",
      "1  | ss_coupon_amt | ss_wholesale_cost | ss_list_price | ss_quantity | ss_net_paid | ss_sales_price | ss_ext_discount_amt | ss_ext_list_price | ss_ext_wholesale_cost | ss_net_profit | ss_ext_tax | ss_net_paid_inc_tax | ss_ext_sales_price\n",
      "2  | ss_coupon_amt | ss_wholesale_cost | ss_list_price | ss_quantity | ss_net_paid | ss_sales_price | ss_ext_discount_amt | ss_ext_list_price | ss_ext_wholesale_cost | ss_net_profit | ss_ext_tax | ss_net_paid_inc_tax | ss_ext_sales_price\n",
      "3  | ss_coupon_amt | ss_wholesale_cost | ss_list_price | ss_quantity | ss_net_paid | ss_sales_price | ss_ext_discount_amt | ss_ext_list_price | ss_ext_wholesale_cost | ss_net_profit | ss_ext_tax | ss_net_paid_inc_tax | ss_ext_sales_price\n",
      "Dataset 2\n",
      "1  | ss_coupon_amt | ss_wholesale_cost | ss_list_price | ss_quantity | ss_net_paid | ss_sales_price | ss_ext_discount_amt | ss_ext_list_price | ss_ext_wholesale_cost | ss_net_profit | ss_ext_tax | ss_net_paid_inc_tax | ss_ext_sales_price\n",
      "2  | ss_coupon_amt | ss_wholesale_cost | ss_list_price | ss_quantity | ss_net_paid | ss_sales_price | ss_ext_discount_amt | ss_ext_list_price | ss_ext_wholesale_cost | ss_net_profit | ss_ext_tax | ss_net_paid_inc_tax | ss_ext_sales_price\n",
      "3  | ss_coupon_amt | ss_wholesale_cost | ss_list_price | ss_quantity | ss_net_paid | ss_sales_price | ss_ext_discount_amt | ss_ext_list_price | ss_ext_wholesale_cost | ss_net_profit | ss_ext_tax | ss_net_paid_inc_tax | ss_ext_sales_price\n",
      "Dataset 3\n",
      "1  | ss_coupon_amt | ss_wholesale_cost | ss_list_price | ss_quantity | ss_net_paid | ss_sales_price | ss_ext_discount_amt | ss_ext_list_price | ss_ext_wholesale_cost | ss_net_profit | ss_ext_tax | ss_net_paid_inc_tax | ss_ext_sales_price\n",
      "2  | ss_coupon_amt | ss_wholesale_cost | ss_list_price | ss_quantity | ss_net_paid | ss_sales_price | ss_ext_discount_amt | ss_ext_list_price | ss_ext_wholesale_cost | ss_net_profit | ss_ext_tax | ss_net_paid_inc_tax | ss_ext_sales_price\n",
      "3  | ss_coupon_amt | ss_wholesale_cost | ss_list_price | ss_quantity | ss_net_paid | ss_sales_price | ss_ext_discount_amt | ss_ext_list_price | ss_ext_wholesale_cost | ss_net_profit | ss_ext_tax | ss_net_paid_inc_tax | ss_ext_sales_price\n",
      "Dataset 4\n",
      "1  | ss_coupon_amt | ss_wholesale_cost | ss_list_price | ss_quantity | ss_net_paid | ss_sales_price | ss_ext_discount_amt | ss_ext_list_price | ss_ext_wholesale_cost | ss_net_profit | ss_ext_tax | ss_net_paid_inc_tax | ss_ext_sales_price\n",
      "2  | ss_coupon_amt | ss_wholesale_cost | ss_list_price | ss_quantity | ss_net_paid | ss_sales_price | ss_ext_discount_amt | ss_ext_list_price | ss_ext_wholesale_cost | ss_net_profit | ss_ext_tax | ss_net_paid_inc_tax | ss_ext_sales_price\n",
      "3  | ss_coupon_amt | ss_wholesale_cost | ss_list_price | ss_quantity | ss_net_paid | ss_sales_price | ss_ext_discount_amt | ss_ext_list_price | ss_ext_wholesale_cost | ss_net_profit | ss_ext_tax | ss_net_paid_inc_tax | ss_ext_sales_price\n"
     ]
    },
    {
     "name": "stderr",
     "output_type": "stream",
     "text": [
      "18it [00:00, 36.69it/s]\n"
     ]
    },
    {
     "name": "stdout",
     "output_type": "stream",
     "text": [
      "0.6928464312896359\n",
      "Initialized logger with name mice 1-3\n",
      "Dataset 0\n",
      "1  | ss_wholesale_cost | ss_coupon_amt | ss_quantity | ss_list_price | ss_net_paid | ss_sales_price | ss_ext_discount_amt | ss_ext_list_price | ss_ext_wholesale_cost | ss_net_profit | ss_ext_tax | ss_net_paid_inc_tax | ss_ext_sales_price\n",
      "2  | ss_wholesale_cost | ss_coupon_amt | ss_quantity | ss_list_price | ss_net_paid | ss_sales_price | ss_ext_discount_amt | ss_ext_list_price | ss_ext_wholesale_cost | ss_net_profit | ss_ext_tax | ss_net_paid_inc_tax | ss_ext_sales_price\n",
      "3  | ss_wholesale_cost | ss_coupon_amt | ss_quantity | ss_list_price | ss_net_paid | ss_sales_price | ss_ext_discount_amt | ss_ext_list_price | ss_ext_wholesale_cost | ss_net_profit | ss_ext_tax | ss_net_paid_inc_tax | ss_ext_sales_price\n",
      "Dataset 1\n",
      "1  | ss_wholesale_cost | ss_coupon_amt | ss_quantity | ss_list_price | ss_net_paid | ss_sales_price | ss_ext_discount_amt | ss_ext_list_price | ss_ext_wholesale_cost | ss_net_profit | ss_ext_tax | ss_net_paid_inc_tax | ss_ext_sales_price\n",
      "2  | ss_wholesale_cost | ss_coupon_amt | ss_quantity | ss_list_price | ss_net_paid | ss_sales_price | ss_ext_discount_amt | ss_ext_list_price | ss_ext_wholesale_cost | ss_net_profit | ss_ext_tax | ss_net_paid_inc_tax | ss_ext_sales_price\n",
      "3  | ss_wholesale_cost | ss_coupon_amt | ss_quantity | ss_list_price | ss_net_paid | ss_sales_price | ss_ext_discount_amt | ss_ext_list_price | ss_ext_wholesale_cost | ss_net_profit | ss_ext_tax | ss_net_paid_inc_tax | ss_ext_sales_price\n",
      "Dataset 2\n",
      "1  | ss_wholesale_cost | ss_coupon_amt | ss_quantity | ss_list_price | ss_net_paid | ss_sales_price | ss_ext_discount_amt | ss_ext_list_price | ss_ext_wholesale_cost | ss_net_profit | ss_ext_tax | ss_net_paid_inc_tax | ss_ext_sales_price\n",
      "2  | ss_wholesale_cost | ss_coupon_amt | ss_quantity | ss_list_price | ss_net_paid | ss_sales_price | ss_ext_discount_amt | ss_ext_list_price | ss_ext_wholesale_cost | ss_net_profit | ss_ext_tax | ss_net_paid_inc_tax | ss_ext_sales_price\n",
      "3  | ss_wholesale_cost | ss_coupon_amt | ss_quantity | ss_list_price | ss_net_paid | ss_sales_price | ss_ext_discount_amt | ss_ext_list_price | ss_ext_wholesale_cost | ss_net_profit | ss_ext_tax | ss_net_paid_inc_tax | ss_ext_sales_price\n",
      "Dataset 3\n",
      "1  | ss_wholesale_cost | ss_coupon_amt | ss_quantity | ss_list_price | ss_net_paid | ss_sales_price | ss_ext_discount_amt | ss_ext_list_price | ss_ext_wholesale_cost | ss_net_profit | ss_ext_tax | ss_net_paid_inc_tax | ss_ext_sales_price\n",
      "2  | ss_wholesale_cost | ss_coupon_amt | ss_quantity | ss_list_price | ss_net_paid | ss_sales_price | ss_ext_discount_amt | ss_ext_list_price | ss_ext_wholesale_cost | ss_net_profit | ss_ext_tax | ss_net_paid_inc_tax | ss_ext_sales_price\n",
      "3  | ss_wholesale_cost | ss_coupon_amt | ss_quantity | ss_list_price | ss_net_paid | ss_sales_price | ss_ext_discount_amt | ss_ext_list_price | ss_ext_wholesale_cost | ss_net_profit | ss_ext_tax | ss_net_paid_inc_tax | ss_ext_sales_price\n",
      "Dataset 4\n",
      "1  | ss_wholesale_cost | ss_coupon_amt | ss_quantity | ss_list_price | ss_net_paid | ss_sales_price | ss_ext_discount_amt | ss_ext_list_price | ss_ext_wholesale_cost | ss_net_profit | ss_ext_tax | ss_net_paid_inc_tax | ss_ext_sales_price\n",
      "2  | ss_wholesale_cost | ss_coupon_amt | ss_quantity | ss_list_price | ss_net_paid | ss_sales_price | ss_ext_discount_amt | ss_ext_list_price | ss_ext_wholesale_cost | ss_net_profit | ss_ext_tax | ss_net_paid_inc_tax | ss_ext_sales_price\n",
      "3  | ss_wholesale_cost | ss_coupon_amt | ss_quantity | ss_list_price | ss_net_paid | ss_sales_price | ss_ext_discount_amt | ss_ext_list_price | ss_ext_wholesale_cost | ss_net_profit | ss_ext_tax | ss_net_paid_inc_tax | ss_ext_sales_price\n"
     ]
    },
    {
     "name": "stderr",
     "output_type": "stream",
     "text": [
      "18it [00:00, 36.73it/s]\n"
     ]
    },
    {
     "name": "stdout",
     "output_type": "stream",
     "text": [
      "0.713011034948324\n",
      "Initialized logger with name mice 1-3\n",
      "Dataset 0\n",
      "1  | ss_wholesale_cost | ss_quantity | ss_coupon_amt | ss_list_price | ss_net_paid | ss_sales_price | ss_ext_discount_amt | ss_ext_list_price | ss_ext_wholesale_cost | ss_net_profit | ss_ext_tax | ss_net_paid_inc_tax | ss_ext_sales_price\n",
      "2  | ss_wholesale_cost | ss_quantity | ss_coupon_amt | ss_list_price | ss_net_paid | ss_sales_price | ss_ext_discount_amt | ss_ext_list_price | ss_ext_wholesale_cost | ss_net_profit | ss_ext_tax | ss_net_paid_inc_tax | ss_ext_sales_price\n",
      "3  | ss_wholesale_cost | ss_quantity | ss_coupon_amt | ss_list_price | ss_net_paid | ss_sales_price | ss_ext_discount_amt | ss_ext_list_price | ss_ext_wholesale_cost | ss_net_profit | ss_ext_tax | ss_net_paid_inc_tax | ss_ext_sales_price\n",
      "Dataset 1\n",
      "1  | ss_wholesale_cost | ss_quantity | ss_coupon_amt | ss_list_price | ss_net_paid | ss_sales_price | ss_ext_discount_amt | ss_ext_list_price | ss_ext_wholesale_cost | ss_net_profit | ss_ext_tax | ss_net_paid_inc_tax | ss_ext_sales_price\n",
      "2  | ss_wholesale_cost | ss_quantity | ss_coupon_amt | ss_list_price | ss_net_paid | ss_sales_price | ss_ext_discount_amt | ss_ext_list_price | ss_ext_wholesale_cost | ss_net_profit | ss_ext_tax | ss_net_paid_inc_tax | ss_ext_sales_price\n",
      "3  | ss_wholesale_cost | ss_quantity | ss_coupon_amt | ss_list_price | ss_net_paid | ss_sales_price | ss_ext_discount_amt | ss_ext_list_price | ss_ext_wholesale_cost | ss_net_profit | ss_ext_tax | ss_net_paid_inc_tax | ss_ext_sales_price\n",
      "Dataset 2\n",
      "1  | ss_wholesale_cost | ss_quantity | ss_coupon_amt | ss_list_price | ss_net_paid | ss_sales_price | ss_ext_discount_amt | ss_ext_list_price | ss_ext_wholesale_cost | ss_net_profit | ss_ext_tax | ss_net_paid_inc_tax | ss_ext_sales_price\n",
      "2  | ss_wholesale_cost | ss_quantity | ss_coupon_amt | ss_list_price | ss_net_paid | ss_sales_price | ss_ext_discount_amt | ss_ext_list_price | ss_ext_wholesale_cost | ss_net_profit | ss_ext_tax | ss_net_paid_inc_tax | ss_ext_sales_price\n",
      "3  | ss_wholesale_cost | ss_quantity | ss_coupon_amt | ss_list_price | ss_net_paid | ss_sales_price | ss_ext_discount_amt | ss_ext_list_price | ss_ext_wholesale_cost | ss_net_profit | ss_ext_tax | ss_net_paid_inc_tax | ss_ext_sales_price\n",
      "Dataset 3\n",
      "1  | ss_wholesale_cost | ss_quantity | ss_coupon_amt | ss_list_price | ss_net_paid | ss_sales_price | ss_ext_discount_amt | ss_ext_list_price | ss_ext_wholesale_cost | ss_net_profit | ss_ext_tax | ss_net_paid_inc_tax | ss_ext_sales_price\n",
      "2  | ss_wholesale_cost | ss_quantity | ss_coupon_amt | ss_list_price | ss_net_paid | ss_sales_price | ss_ext_discount_amt | ss_ext_list_price | ss_ext_wholesale_cost | ss_net_profit | ss_ext_tax | ss_net_paid_inc_tax | ss_ext_sales_price\n",
      "3  | ss_wholesale_cost | ss_quantity | ss_coupon_amt | ss_list_price | ss_net_paid | ss_sales_price | ss_ext_discount_amt | ss_ext_list_price | ss_ext_wholesale_cost | ss_net_profit | ss_ext_tax | ss_net_paid_inc_tax | ss_ext_sales_price\n",
      "Dataset 4\n",
      "1  | ss_wholesale_cost | ss_quantity | ss_coupon_amt | ss_list_price | ss_net_paid | ss_sales_price | ss_ext_discount_amt | ss_ext_list_price | ss_ext_wholesale_cost | ss_net_profit | ss_ext_tax | ss_net_paid_inc_tax | ss_ext_sales_price\n",
      "2  | ss_wholesale_cost | ss_quantity | ss_coupon_amt | ss_list_price | ss_net_paid | ss_sales_price | ss_ext_discount_amt | ss_ext_list_price | ss_ext_wholesale_cost | ss_net_profit | ss_ext_tax | ss_net_paid_inc_tax | ss_ext_sales_price\n",
      "3  | ss_wholesale_cost | ss_quantity | ss_coupon_amt | ss_list_price | ss_net_paid | ss_sales_price | ss_ext_discount_amt | ss_ext_list_price | ss_ext_wholesale_cost | ss_net_profit | ss_ext_tax | ss_net_paid_inc_tax | ss_ext_sales_price\n"
     ]
    },
    {
     "name": "stderr",
     "output_type": "stream",
     "text": [
      "18it [00:00, 37.30it/s]\n"
     ]
    },
    {
     "name": "stdout",
     "output_type": "stream",
     "text": [
      "0.7309247465159183\n",
      "Initialized logger with name mice 1-3\n",
      "Dataset 0\n",
      "1  | ss_quantity | ss_wholesale_cost | ss_coupon_amt | ss_list_price | ss_net_paid | ss_sales_price | ss_ext_discount_amt | ss_ext_list_price | ss_ext_wholesale_cost | ss_net_profit | ss_ext_tax | ss_net_paid_inc_tax | ss_ext_sales_price\n",
      "2  | ss_quantity | ss_wholesale_cost | ss_coupon_amt | ss_list_price | ss_net_paid | ss_sales_price | ss_ext_discount_amt | ss_ext_list_price | ss_ext_wholesale_cost | ss_net_profit | ss_ext_tax | ss_net_paid_inc_tax | ss_ext_sales_price\n",
      "3  | ss_quantity | ss_wholesale_cost | ss_coupon_amt | ss_list_price | ss_net_paid | ss_sales_price | ss_ext_discount_amt | ss_ext_list_price | ss_ext_wholesale_cost | ss_net_profit | ss_ext_tax | ss_net_paid_inc_tax | ss_ext_sales_price\n",
      "Dataset 1\n",
      "1  | ss_quantity | ss_wholesale_cost | ss_coupon_amt | ss_list_price | ss_net_paid | ss_sales_price | ss_ext_discount_amt | ss_ext_list_price | ss_ext_wholesale_cost | ss_net_profit | ss_ext_tax | ss_net_paid_inc_tax | ss_ext_sales_price\n",
      "2  | ss_quantity | ss_wholesale_cost | ss_coupon_amt | ss_list_price | ss_net_paid | ss_sales_price | ss_ext_discount_amt | ss_ext_list_price | ss_ext_wholesale_cost | ss_net_profit | ss_ext_tax | ss_net_paid_inc_tax | ss_ext_sales_price\n",
      "3  | ss_quantity | ss_wholesale_cost | ss_coupon_amt | ss_list_price | ss_net_paid | ss_sales_price | ss_ext_discount_amt | ss_ext_list_price | ss_ext_wholesale_cost | ss_net_profit | ss_ext_tax | ss_net_paid_inc_tax | ss_ext_sales_price\n",
      "Dataset 2\n",
      "1  | ss_quantity | ss_wholesale_cost | ss_coupon_amt | ss_list_price | ss_net_paid | ss_sales_price | ss_ext_discount_amt | ss_ext_list_price | ss_ext_wholesale_cost | ss_net_profit | ss_ext_tax | ss_net_paid_inc_tax | ss_ext_sales_price\n",
      "2  | ss_quantity | ss_wholesale_cost | ss_coupon_amt | ss_list_price | ss_net_paid | ss_sales_price | ss_ext_discount_amt | ss_ext_list_price | ss_ext_wholesale_cost | ss_net_profit | ss_ext_tax | ss_net_paid_inc_tax | ss_ext_sales_price\n",
      "3  | ss_quantity | ss_wholesale_cost | ss_coupon_amt | ss_list_price | ss_net_paid | ss_sales_price | ss_ext_discount_amt | ss_ext_list_price | ss_ext_wholesale_cost | ss_net_profit | ss_ext_tax | ss_net_paid_inc_tax | ss_ext_sales_price\n",
      "Dataset 3\n",
      "1  | ss_quantity | ss_wholesale_cost | ss_coupon_amt | ss_list_price | ss_net_paid | ss_sales_price | ss_ext_discount_amt | ss_ext_list_price | ss_ext_wholesale_cost | ss_net_profit | ss_ext_tax | ss_net_paid_inc_tax | ss_ext_sales_price\n",
      "2  | ss_quantity | ss_wholesale_cost | ss_coupon_amt | ss_list_price | ss_net_paid | ss_sales_price | ss_ext_discount_amt | ss_ext_list_price | ss_ext_wholesale_cost | ss_net_profit | ss_ext_tax | ss_net_paid_inc_tax | ss_ext_sales_price\n",
      "3  | ss_quantity | ss_wholesale_cost | ss_coupon_amt | ss_list_price | ss_net_paid | ss_sales_price | ss_ext_discount_amt | ss_ext_list_price | ss_ext_wholesale_cost | ss_net_profit | ss_ext_tax | ss_net_paid_inc_tax | ss_ext_sales_price\n",
      "Dataset 4\n",
      "1  | ss_quantity | ss_wholesale_cost | ss_coupon_amt | ss_list_price | ss_net_paid | ss_sales_price | ss_ext_discount_amt | ss_ext_list_price | ss_ext_wholesale_cost | ss_net_profit | ss_ext_tax | ss_net_paid_inc_tax | ss_ext_sales_price\n",
      "2  | ss_quantity | ss_wholesale_cost | ss_coupon_amt | ss_list_price | ss_net_paid | ss_sales_price | ss_ext_discount_amt | ss_ext_list_price | ss_ext_wholesale_cost | ss_net_profit | ss_ext_tax | ss_net_paid_inc_tax | ss_ext_sales_price\n",
      "3  | ss_quantity | ss_wholesale_cost | ss_coupon_amt | ss_list_price | ss_net_paid | ss_sales_price | ss_ext_discount_amt | ss_ext_list_price | ss_ext_wholesale_cost | ss_net_profit | ss_ext_tax | ss_net_paid_inc_tax | ss_ext_sales_price\n"
     ]
    },
    {
     "name": "stderr",
     "output_type": "stream",
     "text": [
      "18it [00:00, 39.36it/s]\n"
     ]
    },
    {
     "name": "stdout",
     "output_type": "stream",
     "text": [
      "0.7449587041701023\n",
      "Initialized logger with name mice 1-3\n",
      "Dataset 0\n",
      "1  | ss_quantity | ss_wholesale_cost | ss_coupon_amt | ss_list_price | ss_net_paid | ss_sales_price | ss_ext_discount_amt | ss_ext_list_price | ss_ext_wholesale_cost | ss_net_profit | ss_ext_tax | ss_net_paid_inc_tax | ss_ext_sales_price\n",
      "2  | ss_quantity | ss_wholesale_cost | ss_coupon_amt | ss_list_price | ss_net_paid | ss_sales_price | ss_ext_discount_amt | ss_ext_list_price | ss_ext_wholesale_cost | ss_net_profit | ss_ext_tax | ss_net_paid_inc_tax | ss_ext_sales_price\n",
      "3  | ss_quantity | ss_wholesale_cost | ss_coupon_amt | ss_list_price | ss_net_paid | ss_sales_price | ss_ext_discount_amt | ss_ext_list_price | ss_ext_wholesale_cost | ss_net_profit | ss_ext_tax | ss_net_paid_inc_tax | ss_ext_sales_price\n",
      "Dataset 1\n",
      "1  | ss_quantity | ss_wholesale_cost | ss_coupon_amt | ss_list_price | ss_net_paid | ss_sales_price | ss_ext_discount_amt | ss_ext_list_price | ss_ext_wholesale_cost | ss_net_profit | ss_ext_tax | ss_net_paid_inc_tax | ss_ext_sales_price\n",
      "2  | ss_quantity | ss_wholesale_cost | ss_coupon_amt | ss_list_price | ss_net_paid | ss_sales_price | ss_ext_discount_amt | ss_ext_list_price | ss_ext_wholesale_cost | ss_net_profit | ss_ext_tax | ss_net_paid_inc_tax | ss_ext_sales_price\n",
      "3  | ss_quantity | ss_wholesale_cost | ss_coupon_amt | ss_list_price | ss_net_paid | ss_sales_price | ss_ext_discount_amt | ss_ext_list_price | ss_ext_wholesale_cost | ss_net_profit | ss_ext_tax | ss_net_paid_inc_tax | ss_ext_sales_price\n",
      "Dataset 2\n",
      "1  | ss_quantity | ss_wholesale_cost | ss_coupon_amt | ss_list_price | ss_net_paid | ss_sales_price | ss_ext_discount_amt | ss_ext_list_price | ss_ext_wholesale_cost | ss_net_profit | ss_ext_tax | ss_net_paid_inc_tax | ss_ext_sales_price\n",
      "2  | ss_quantity | ss_wholesale_cost | ss_coupon_amt | ss_list_price | ss_net_paid | ss_sales_price | ss_ext_discount_amt | ss_ext_list_price | ss_ext_wholesale_cost | ss_net_profit | ss_ext_tax | ss_net_paid_inc_tax | ss_ext_sales_price\n",
      "3  | ss_quantity | ss_wholesale_cost | ss_coupon_amt | ss_list_price | ss_net_paid | ss_sales_price | ss_ext_discount_amt | ss_ext_list_price | ss_ext_wholesale_cost | ss_net_profit | ss_ext_tax | ss_net_paid_inc_tax | ss_ext_sales_price\n",
      "Dataset 3\n",
      "1  | ss_quantity | ss_wholesale_cost | ss_coupon_amt | ss_list_price | ss_net_paid | ss_sales_price | ss_ext_discount_amt | ss_ext_list_price | ss_ext_wholesale_cost | ss_net_profit | ss_ext_tax | ss_net_paid_inc_tax | ss_ext_sales_price\n",
      "2  | ss_quantity | ss_wholesale_cost | ss_coupon_amt | ss_list_price | ss_net_paid | ss_sales_price | ss_ext_discount_amt | ss_ext_list_price | ss_ext_wholesale_cost | ss_net_profit | ss_ext_tax | ss_net_paid_inc_tax | ss_ext_sales_price\n",
      "3  | ss_quantity | ss_wholesale_cost | ss_coupon_amt | ss_list_price | ss_net_paid | ss_sales_price | ss_ext_discount_amt | ss_ext_list_price | ss_ext_wholesale_cost | ss_net_profit | ss_ext_tax | ss_net_paid_inc_tax | ss_ext_sales_price\n",
      "Dataset 4\n",
      "1  | ss_quantity | ss_wholesale_cost | ss_coupon_amt | ss_list_price | ss_net_paid | ss_sales_price | ss_ext_discount_amt | ss_ext_list_price | ss_ext_wholesale_cost | ss_net_profit | ss_ext_tax | ss_net_paid_inc_tax | ss_ext_sales_price\n",
      "2  | ss_quantity | ss_wholesale_cost | ss_coupon_amt | ss_list_price | ss_net_paid | ss_sales_price | ss_ext_discount_amt | ss_ext_list_price | ss_ext_wholesale_cost | ss_net_profit | ss_ext_tax | ss_net_paid_inc_tax | ss_ext_sales_price\n",
      "3  | ss_quantity | ss_wholesale_cost | ss_coupon_amt | ss_list_price | ss_net_paid | ss_sales_price | ss_ext_discount_amt | ss_ext_list_price | ss_ext_wholesale_cost | ss_net_profit | ss_ext_tax | ss_net_paid_inc_tax | ss_ext_sales_price\n"
     ]
    },
    {
     "name": "stderr",
     "output_type": "stream",
     "text": [
      "18it [00:00, 37.14it/s]\n"
     ]
    },
    {
     "name": "stdout",
     "output_type": "stream",
     "text": [
      "0.7589109584066749\n",
      "Initialized logger with name mice 1-3\n",
      "Dataset 0\n",
      "1  | ss_quantity | ss_wholesale_cost | ss_list_price | ss_coupon_amt | ss_net_paid | ss_sales_price | ss_ext_discount_amt | ss_ext_list_price | ss_ext_wholesale_cost | ss_net_profit | ss_ext_tax | ss_net_paid_inc_tax | ss_ext_sales_price\n",
      "2  | ss_quantity | ss_wholesale_cost | ss_list_price | ss_coupon_amt | ss_net_paid | ss_sales_price | ss_ext_discount_amt | ss_ext_list_price | ss_ext_wholesale_cost | ss_net_profit | ss_ext_tax | ss_net_paid_inc_tax | ss_ext_sales_price\n",
      "3  | ss_quantity | ss_wholesale_cost | ss_list_price | ss_coupon_amt | ss_net_paid | ss_sales_price | ss_ext_discount_amt | ss_ext_list_price | ss_ext_wholesale_cost | ss_net_profit | ss_ext_tax | ss_net_paid_inc_tax | ss_ext_sales_price\n",
      "Dataset 1\n",
      "1  | ss_quantity | ss_wholesale_cost | ss_list_price | ss_coupon_amt | ss_net_paid | ss_sales_price | ss_ext_discount_amt | ss_ext_list_price | ss_ext_wholesale_cost | ss_net_profit | ss_ext_tax | ss_net_paid_inc_tax | ss_ext_sales_price\n",
      "2  | ss_quantity | ss_wholesale_cost | ss_list_price | ss_coupon_amt | ss_net_paid | ss_sales_price | ss_ext_discount_amt | ss_ext_list_price | ss_ext_wholesale_cost | ss_net_profit | ss_ext_tax | ss_net_paid_inc_tax | ss_ext_sales_price\n",
      "3  | ss_quantity | ss_wholesale_cost | ss_list_price | ss_coupon_amt | ss_net_paid | ss_sales_price | ss_ext_discount_amt | ss_ext_list_price | ss_ext_wholesale_cost | ss_net_profit | ss_ext_tax | ss_net_paid_inc_tax | ss_ext_sales_price\n",
      "Dataset 2\n",
      "1  | ss_quantity | ss_wholesale_cost | ss_list_price | ss_coupon_amt | ss_net_paid | ss_sales_price | ss_ext_discount_amt | ss_ext_list_price | ss_ext_wholesale_cost | ss_net_profit | ss_ext_tax | ss_net_paid_inc_tax | ss_ext_sales_price\n",
      "2  | ss_quantity | ss_wholesale_cost | ss_list_price | ss_coupon_amt | ss_net_paid | ss_sales_price | ss_ext_discount_amt | ss_ext_list_price | ss_ext_wholesale_cost | ss_net_profit | ss_ext_tax | ss_net_paid_inc_tax | ss_ext_sales_price\n",
      "3  | ss_quantity | ss_wholesale_cost | ss_list_price | ss_coupon_amt | ss_net_paid | ss_sales_price | ss_ext_discount_amt | ss_ext_list_price | ss_ext_wholesale_cost | ss_net_profit | ss_ext_tax | ss_net_paid_inc_tax | ss_ext_sales_price\n",
      "Dataset 3\n",
      "1  | ss_quantity | ss_wholesale_cost | ss_list_price | ss_coupon_amt | ss_net_paid | ss_sales_price | ss_ext_discount_amt | ss_ext_list_price | ss_ext_wholesale_cost | ss_net_profit | ss_ext_tax | ss_net_paid_inc_tax | ss_ext_sales_price\n",
      "2  | ss_quantity | ss_wholesale_cost | ss_list_price | ss_coupon_amt | ss_net_paid | ss_sales_price | ss_ext_discount_amt | ss_ext_list_price | ss_ext_wholesale_cost | ss_net_profit | ss_ext_tax | ss_net_paid_inc_tax | ss_ext_sales_price\n",
      "3  | ss_quantity | ss_wholesale_cost | ss_list_price | ss_coupon_amt | ss_net_paid | ss_sales_price | ss_ext_discount_amt | ss_ext_list_price | ss_ext_wholesale_cost | ss_net_profit | ss_ext_tax | ss_net_paid_inc_tax | ss_ext_sales_price\n",
      "Dataset 4\n",
      "1  | ss_quantity | ss_wholesale_cost | ss_list_price | ss_coupon_amt | ss_net_paid | ss_sales_price | ss_ext_discount_amt | ss_ext_list_price | ss_ext_wholesale_cost | ss_net_profit | ss_ext_tax | ss_net_paid_inc_tax | ss_ext_sales_price\n",
      "2  | ss_quantity | ss_wholesale_cost | ss_list_price | ss_coupon_amt | ss_net_paid | ss_sales_price | ss_ext_discount_amt | ss_ext_list_price | ss_ext_wholesale_cost | ss_net_profit | ss_ext_tax | ss_net_paid_inc_tax | ss_ext_sales_price\n",
      "3  | ss_quantity | ss_wholesale_cost | ss_list_price | ss_coupon_amt | ss_net_paid | ss_sales_price | ss_ext_discount_amt | ss_ext_list_price | ss_ext_wholesale_cost | ss_net_profit | ss_ext_tax | ss_net_paid_inc_tax | ss_ext_sales_price\n"
     ]
    },
    {
     "name": "stderr",
     "output_type": "stream",
     "text": [
      "18it [00:00, 36.78it/s]\n"
     ]
    },
    {
     "name": "stdout",
     "output_type": "stream",
     "text": [
      "0.7719606473772255\n",
      "Initialized logger with name mice 1-3\n",
      "Dataset 0\n",
      "1  | ss_quantity | ss_wholesale_cost | ss_list_price | ss_coupon_amt | ss_net_paid | ss_sales_price | ss_ext_discount_amt | ss_ext_list_price | ss_ext_wholesale_cost | ss_net_profit | ss_ext_tax | ss_net_paid_inc_tax | ss_ext_sales_price\n",
      "2  | ss_quantity | ss_wholesale_cost | ss_list_price | ss_coupon_amt | ss_net_paid | ss_sales_price | ss_ext_discount_amt | ss_ext_list_price | ss_ext_wholesale_cost | ss_net_profit | ss_ext_tax | ss_net_paid_inc_tax | ss_ext_sales_price\n",
      "3  | ss_quantity | ss_wholesale_cost | ss_list_price | ss_coupon_amt | ss_net_paid | ss_sales_price | ss_ext_discount_amt | ss_ext_list_price | ss_ext_wholesale_cost | ss_net_profit | ss_ext_tax | ss_net_paid_inc_tax | ss_ext_sales_price\n",
      "Dataset 1\n",
      "1  | ss_quantity | ss_wholesale_cost | ss_list_price | ss_coupon_amt | ss_net_paid | ss_sales_price | ss_ext_discount_amt | ss_ext_list_price | ss_ext_wholesale_cost | ss_net_profit | ss_ext_tax | ss_net_paid_inc_tax | ss_ext_sales_price\n",
      "2  | ss_quantity | ss_wholesale_cost | ss_list_price | ss_coupon_amt | ss_net_paid | ss_sales_price | ss_ext_discount_amt | ss_ext_list_price | ss_ext_wholesale_cost | ss_net_profit | ss_ext_tax | ss_net_paid_inc_tax | ss_ext_sales_price\n",
      "3  | ss_quantity | ss_wholesale_cost | ss_list_price | ss_coupon_amt | ss_net_paid | ss_sales_price | ss_ext_discount_amt | ss_ext_list_price | ss_ext_wholesale_cost | ss_net_profit | ss_ext_tax | ss_net_paid_inc_tax | ss_ext_sales_price\n",
      "Dataset 2\n",
      "1  | ss_quantity | ss_wholesale_cost | ss_list_price | ss_coupon_amt | ss_net_paid | ss_sales_price | ss_ext_discount_amt | ss_ext_list_price | ss_ext_wholesale_cost | ss_net_profit | ss_ext_tax | ss_net_paid_inc_tax | ss_ext_sales_price\n",
      "2  | ss_quantity | ss_wholesale_cost | ss_list_price | ss_coupon_amt | ss_net_paid | ss_sales_price | ss_ext_discount_amt | ss_ext_list_price | ss_ext_wholesale_cost | ss_net_profit | ss_ext_tax | ss_net_paid_inc_tax | ss_ext_sales_price\n",
      "3  | ss_quantity | ss_wholesale_cost | ss_list_price | ss_coupon_amt | ss_net_paid | ss_sales_price | ss_ext_discount_amt | ss_ext_list_price | ss_ext_wholesale_cost | ss_net_profit | ss_ext_tax | ss_net_paid_inc_tax | ss_ext_sales_price\n",
      "Dataset 3\n",
      "1  | ss_quantity | ss_wholesale_cost | ss_list_price | ss_coupon_amt | ss_net_paid | ss_sales_price | ss_ext_discount_amt | ss_ext_list_price | ss_ext_wholesale_cost | ss_net_profit | ss_ext_tax | ss_net_paid_inc_tax | ss_ext_sales_price\n",
      "2  | ss_quantity | ss_wholesale_cost | ss_list_price | ss_coupon_amt | ss_net_paid | ss_sales_price | ss_ext_discount_amt | ss_ext_list_price | ss_ext_wholesale_cost | ss_net_profit | ss_ext_tax | ss_net_paid_inc_tax | ss_ext_sales_price\n",
      "3  | ss_quantity | ss_wholesale_cost | ss_list_price | ss_coupon_amt | ss_net_paid | ss_sales_price | ss_ext_discount_amt | ss_ext_list_price | ss_ext_wholesale_cost | ss_net_profit | ss_ext_tax | ss_net_paid_inc_tax | ss_ext_sales_price\n",
      "Dataset 4\n",
      "1  | ss_quantity | ss_wholesale_cost | ss_list_price | ss_coupon_amt | ss_net_paid | ss_sales_price | ss_ext_discount_amt | ss_ext_list_price | ss_ext_wholesale_cost | ss_net_profit | ss_ext_tax | ss_net_paid_inc_tax | ss_ext_sales_price\n",
      "2  | ss_quantity | ss_wholesale_cost | ss_list_price | ss_coupon_amt | ss_net_paid | ss_sales_price | ss_ext_discount_amt | ss_ext_list_price | ss_ext_wholesale_cost | ss_net_profit | ss_ext_tax | ss_net_paid_inc_tax | ss_ext_sales_price\n",
      "3  | ss_quantity | ss_wholesale_cost | ss_list_price | ss_coupon_amt | ss_net_paid | ss_sales_price | ss_ext_discount_amt | ss_ext_list_price | ss_ext_wholesale_cost | ss_net_profit | ss_ext_tax | ss_net_paid_inc_tax | ss_ext_sales_price\n"
     ]
    },
    {
     "name": "stderr",
     "output_type": "stream",
     "text": [
      "18it [00:00, 36.84it/s]\n"
     ]
    },
    {
     "name": "stdout",
     "output_type": "stream",
     "text": [
      "0.7833859390234257\n",
      "Initialized logger with name mice 1-3\n",
      "Dataset 0\n",
      "1  | ss_quantity | ss_wholesale_cost | ss_list_price | ss_coupon_amt | ss_net_paid | ss_sales_price | ss_ext_discount_amt | ss_ext_list_price | ss_ext_wholesale_cost | ss_net_profit | ss_ext_tax | ss_net_paid_inc_tax | ss_ext_sales_price\n",
      "2  | ss_quantity | ss_wholesale_cost | ss_list_price | ss_coupon_amt | ss_net_paid | ss_sales_price | ss_ext_discount_amt | ss_ext_list_price | ss_ext_wholesale_cost | ss_net_profit | ss_ext_tax | ss_net_paid_inc_tax | ss_ext_sales_price\n",
      "3  | ss_quantity | ss_wholesale_cost | ss_list_price | ss_coupon_amt | ss_net_paid | ss_sales_price | ss_ext_discount_amt | ss_ext_list_price | ss_ext_wholesale_cost | ss_net_profit | ss_ext_tax | ss_net_paid_inc_tax | ss_ext_sales_price\n",
      "Dataset 1\n",
      "1  | ss_quantity | ss_wholesale_cost | ss_list_price | ss_coupon_amt | ss_net_paid | ss_sales_price | ss_ext_discount_amt | ss_ext_list_price | ss_ext_wholesale_cost | ss_net_profit | ss_ext_tax | ss_net_paid_inc_tax | ss_ext_sales_price\n",
      "2  | ss_quantity | ss_wholesale_cost | ss_list_price | ss_coupon_amt | ss_net_paid | ss_sales_price | ss_ext_discount_amt | ss_ext_list_price | ss_ext_wholesale_cost | ss_net_profit | ss_ext_tax | ss_net_paid_inc_tax | ss_ext_sales_price\n",
      "3  | ss_quantity | ss_wholesale_cost | ss_list_price | ss_coupon_amt | ss_net_paid | ss_sales_price | ss_ext_discount_amt | ss_ext_list_price | ss_ext_wholesale_cost | ss_net_profit | ss_ext_tax | ss_net_paid_inc_tax | ss_ext_sales_price\n",
      "Dataset 2\n",
      "1  | ss_quantity | ss_wholesale_cost | ss_list_price | ss_coupon_amt | ss_net_paid | ss_sales_price | ss_ext_discount_amt | ss_ext_list_price | ss_ext_wholesale_cost | ss_net_profit | ss_ext_tax | ss_net_paid_inc_tax | ss_ext_sales_price\n",
      "2  | ss_quantity | ss_wholesale_cost | ss_list_price | ss_coupon_amt | ss_net_paid | ss_sales_price | ss_ext_discount_amt | ss_ext_list_price | ss_ext_wholesale_cost | ss_net_profit | ss_ext_tax | ss_net_paid_inc_tax | ss_ext_sales_price\n",
      "3  | ss_quantity | ss_wholesale_cost | ss_list_price | ss_coupon_amt | ss_net_paid | ss_sales_price | ss_ext_discount_amt | ss_ext_list_price | ss_ext_wholesale_cost | ss_net_profit | ss_ext_tax | ss_net_paid_inc_tax | ss_ext_sales_price\n",
      "Dataset 3\n",
      "1  | ss_quantity | ss_wholesale_cost | ss_list_price | ss_coupon_amt | ss_net_paid | ss_sales_price | ss_ext_discount_amt | ss_ext_list_price | ss_ext_wholesale_cost | ss_net_profit | ss_ext_tax | ss_net_paid_inc_tax | ss_ext_sales_price\n",
      "2  | ss_quantity | ss_wholesale_cost | ss_list_price | ss_coupon_amt | ss_net_paid | ss_sales_price | ss_ext_discount_amt | ss_ext_list_price | ss_ext_wholesale_cost | ss_net_profit | ss_ext_tax | ss_net_paid_inc_tax | ss_ext_sales_price\n",
      "3  | ss_quantity | ss_wholesale_cost | ss_list_price | ss_coupon_amt | ss_net_paid | ss_sales_price | ss_ext_discount_amt | ss_ext_list_price | ss_ext_wholesale_cost | ss_net_profit | ss_ext_tax | ss_net_paid_inc_tax | ss_ext_sales_price\n",
      "Dataset 4\n",
      "1  | ss_quantity | ss_wholesale_cost | ss_list_price | ss_coupon_amt | ss_net_paid | ss_sales_price | ss_ext_discount_amt | ss_ext_list_price | ss_ext_wholesale_cost | ss_net_profit | ss_ext_tax | ss_net_paid_inc_tax | ss_ext_sales_price\n",
      "2  | ss_quantity | ss_wholesale_cost | ss_list_price | ss_coupon_amt | ss_net_paid | ss_sales_price | ss_ext_discount_amt | ss_ext_list_price | ss_ext_wholesale_cost | ss_net_profit | ss_ext_tax | ss_net_paid_inc_tax | ss_ext_sales_price\n",
      "3  | ss_quantity | ss_wholesale_cost | ss_list_price | ss_coupon_amt | ss_net_paid | ss_sales_price | ss_ext_discount_amt | ss_ext_list_price | ss_ext_wholesale_cost | ss_net_profit | ss_ext_tax | ss_net_paid_inc_tax | ss_ext_sales_price\n"
     ]
    },
    {
     "name": "stderr",
     "output_type": "stream",
     "text": [
      "18it [00:00, 36.65it/s]\n"
     ]
    },
    {
     "name": "stdout",
     "output_type": "stream",
     "text": [
      "0.793253462916571\n",
      "Initialized logger with name mice 1-3\n",
      "Dataset 0\n",
      "1  | ss_quantity | ss_wholesale_cost | ss_list_price | ss_coupon_amt | ss_net_paid | ss_sales_price | ss_ext_discount_amt | ss_ext_list_price | ss_ext_wholesale_cost | ss_net_profit | ss_ext_tax | ss_net_paid_inc_tax | ss_ext_sales_price\n",
      "2  | ss_quantity | ss_wholesale_cost | ss_list_price | ss_coupon_amt | ss_net_paid | ss_sales_price | ss_ext_discount_amt | ss_ext_list_price | ss_ext_wholesale_cost | ss_net_profit | ss_ext_tax | ss_net_paid_inc_tax | ss_ext_sales_price\n",
      "3  | ss_quantity | ss_wholesale_cost | ss_list_price | ss_coupon_amt | ss_net_paid | ss_sales_price | ss_ext_discount_amt | ss_ext_list_price | ss_ext_wholesale_cost | ss_net_profit | ss_ext_tax | ss_net_paid_inc_tax | ss_ext_sales_price\n",
      "Dataset 1\n",
      "1  | ss_quantity | ss_wholesale_cost | ss_list_price | ss_coupon_amt | ss_net_paid | ss_sales_price | ss_ext_discount_amt | ss_ext_list_price | ss_ext_wholesale_cost | ss_net_profit | ss_ext_tax | ss_net_paid_inc_tax | ss_ext_sales_price\n",
      "2  | ss_quantity | ss_wholesale_cost | ss_list_price | ss_coupon_amt | ss_net_paid | ss_sales_price | ss_ext_discount_amt | ss_ext_list_price | ss_ext_wholesale_cost | ss_net_profit | ss_ext_tax | ss_net_paid_inc_tax | ss_ext_sales_price\n",
      "3  | ss_quantity | ss_wholesale_cost | ss_list_price | ss_coupon_amt | ss_net_paid | ss_sales_price | ss_ext_discount_amt | ss_ext_list_price | ss_ext_wholesale_cost | ss_net_profit | ss_ext_tax | ss_net_paid_inc_tax | ss_ext_sales_price\n",
      "Dataset 2\n",
      "1  | ss_quantity | ss_wholesale_cost | ss_list_price | ss_coupon_amt | ss_net_paid | ss_sales_price | ss_ext_discount_amt | ss_ext_list_price | ss_ext_wholesale_cost | ss_net_profit | ss_ext_tax | ss_net_paid_inc_tax | ss_ext_sales_price\n",
      "2  | ss_quantity | ss_wholesale_cost | ss_list_price | ss_coupon_amt | ss_net_paid | ss_sales_price | ss_ext_discount_amt | ss_ext_list_price | ss_ext_wholesale_cost | ss_net_profit | ss_ext_tax | ss_net_paid_inc_tax | ss_ext_sales_price\n",
      "3  | ss_quantity | ss_wholesale_cost | ss_list_price | ss_coupon_amt | ss_net_paid | ss_sales_price | ss_ext_discount_amt | ss_ext_list_price | ss_ext_wholesale_cost | ss_net_profit | ss_ext_tax | ss_net_paid_inc_tax | ss_ext_sales_price\n",
      "Dataset 3\n",
      "1  | ss_quantity | ss_wholesale_cost | ss_list_price | ss_coupon_amt | ss_net_paid | ss_sales_price | ss_ext_discount_amt | ss_ext_list_price | ss_ext_wholesale_cost | ss_net_profit | ss_ext_tax | ss_net_paid_inc_tax | ss_ext_sales_price\n",
      "2  | ss_quantity | ss_wholesale_cost | ss_list_price | ss_coupon_amt | ss_net_paid | ss_sales_price | ss_ext_discount_amt | ss_ext_list_price | ss_ext_wholesale_cost | ss_net_profit | ss_ext_tax | ss_net_paid_inc_tax | ss_ext_sales_price\n",
      "3  | ss_quantity | ss_wholesale_cost | ss_list_price | ss_coupon_amt | ss_net_paid | ss_sales_price | ss_ext_discount_amt | ss_ext_list_price | ss_ext_wholesale_cost | ss_net_profit | ss_ext_tax | ss_net_paid_inc_tax | ss_ext_sales_price\n",
      "Dataset 4\n",
      "1  | ss_quantity | ss_wholesale_cost | ss_list_price | ss_coupon_amt | ss_net_paid | ss_sales_price | ss_ext_discount_amt | ss_ext_list_price | ss_ext_wholesale_cost | ss_net_profit | ss_ext_tax | ss_net_paid_inc_tax | ss_ext_sales_price\n",
      "2  | ss_quantity | ss_wholesale_cost | ss_list_price | ss_coupon_amt | ss_net_paid | ss_sales_price | ss_ext_discount_amt | ss_ext_list_price | ss_ext_wholesale_cost | ss_net_profit | ss_ext_tax | ss_net_paid_inc_tax | ss_ext_sales_price\n",
      "3  | ss_quantity | ss_wholesale_cost | ss_list_price | ss_coupon_amt | ss_net_paid | ss_sales_price | ss_ext_discount_amt | ss_ext_list_price | ss_ext_wholesale_cost | ss_net_profit | ss_ext_tax | ss_net_paid_inc_tax | ss_ext_sales_price\n"
     ]
    },
    {
     "name": "stderr",
     "output_type": "stream",
     "text": [
      "18it [00:00, 37.44it/s]\n"
     ]
    },
    {
     "name": "stdout",
     "output_type": "stream",
     "text": [
      "0.8057351327394099\n",
      "Initialized logger with name mice 1-3\n",
      "Dataset 0\n",
      "1  | ss_quantity | ss_wholesale_cost | ss_list_price | ss_coupon_amt | ss_net_paid | ss_sales_price | ss_ext_discount_amt | ss_ext_list_price | ss_ext_wholesale_cost | ss_net_profit | ss_ext_tax | ss_net_paid_inc_tax | ss_ext_sales_price\n",
      "2  | ss_quantity | ss_wholesale_cost | ss_list_price | ss_coupon_amt | ss_net_paid | ss_sales_price | ss_ext_discount_amt | ss_ext_list_price | ss_ext_wholesale_cost | ss_net_profit | ss_ext_tax | ss_net_paid_inc_tax | ss_ext_sales_price\n",
      "3  | ss_quantity | ss_wholesale_cost | ss_list_price | ss_coupon_amt | ss_net_paid | ss_sales_price | ss_ext_discount_amt | ss_ext_list_price | ss_ext_wholesale_cost | ss_net_profit | ss_ext_tax | ss_net_paid_inc_tax | ss_ext_sales_price\n",
      "Dataset 1\n",
      "1  | ss_quantity | ss_wholesale_cost | ss_list_price | ss_coupon_amt | ss_net_paid | ss_sales_price | ss_ext_discount_amt | ss_ext_list_price | ss_ext_wholesale_cost | ss_net_profit | ss_ext_tax | ss_net_paid_inc_tax | ss_ext_sales_price\n",
      "2  | ss_quantity | ss_wholesale_cost | ss_list_price | ss_coupon_amt | ss_net_paid | ss_sales_price | ss_ext_discount_amt | ss_ext_list_price | ss_ext_wholesale_cost | ss_net_profit | ss_ext_tax | ss_net_paid_inc_tax | ss_ext_sales_price\n",
      "3  | ss_quantity | ss_wholesale_cost | ss_list_price | ss_coupon_amt | ss_net_paid | ss_sales_price | ss_ext_discount_amt | ss_ext_list_price | ss_ext_wholesale_cost | ss_net_profit | ss_ext_tax | ss_net_paid_inc_tax | ss_ext_sales_price\n",
      "Dataset 2\n",
      "1  | ss_quantity | ss_wholesale_cost | ss_list_price | ss_coupon_amt | ss_net_paid | ss_sales_price | ss_ext_discount_amt | ss_ext_list_price | ss_ext_wholesale_cost | ss_net_profit | ss_ext_tax | ss_net_paid_inc_tax | ss_ext_sales_price\n",
      "2  | ss_quantity | ss_wholesale_cost | ss_list_price | ss_coupon_amt | ss_net_paid | ss_sales_price | ss_ext_discount_amt | ss_ext_list_price | ss_ext_wholesale_cost | ss_net_profit | ss_ext_tax | ss_net_paid_inc_tax | ss_ext_sales_price\n",
      "3  | ss_quantity | ss_wholesale_cost | ss_list_price | ss_coupon_amt | ss_net_paid | ss_sales_price | ss_ext_discount_amt | ss_ext_list_price | ss_ext_wholesale_cost | ss_net_profit | ss_ext_tax | ss_net_paid_inc_tax | ss_ext_sales_price\n",
      "Dataset 3\n",
      "1  | ss_quantity | ss_wholesale_cost | ss_list_price | ss_coupon_amt | ss_net_paid | ss_sales_price | ss_ext_discount_amt | ss_ext_list_price | ss_ext_wholesale_cost | ss_net_profit | ss_ext_tax | ss_net_paid_inc_tax | ss_ext_sales_price\n",
      "2  | ss_quantity | ss_wholesale_cost | ss_list_price | ss_coupon_amt | ss_net_paid | ss_sales_price | ss_ext_discount_amt | ss_ext_list_price | ss_ext_wholesale_cost | ss_net_profit | ss_ext_tax | ss_net_paid_inc_tax | ss_ext_sales_price\n",
      "3  | ss_quantity | ss_wholesale_cost | ss_list_price | ss_coupon_amt | ss_net_paid | ss_sales_price | ss_ext_discount_amt | ss_ext_list_price | ss_ext_wholesale_cost | ss_net_profit | ss_ext_tax | ss_net_paid_inc_tax | ss_ext_sales_price\n",
      "Dataset 4\n",
      "1  | ss_quantity | ss_wholesale_cost | ss_list_price | ss_coupon_amt | ss_net_paid | ss_sales_price | ss_ext_discount_amt | ss_ext_list_price | ss_ext_wholesale_cost | ss_net_profit | ss_ext_tax | ss_net_paid_inc_tax | ss_ext_sales_price\n",
      "2  | ss_quantity | ss_wholesale_cost | ss_list_price | ss_coupon_amt | ss_net_paid | ss_sales_price | ss_ext_discount_amt | ss_ext_list_price | ss_ext_wholesale_cost | ss_net_profit | ss_ext_tax | ss_net_paid_inc_tax | ss_ext_sales_price\n",
      "3  | ss_quantity | ss_wholesale_cost | ss_list_price | ss_coupon_amt | ss_net_paid | ss_sales_price | ss_ext_discount_amt | ss_ext_list_price | ss_ext_wholesale_cost | ss_net_profit | ss_ext_tax | ss_net_paid_inc_tax | ss_ext_sales_price\n"
     ]
    },
    {
     "name": "stderr",
     "output_type": "stream",
     "text": [
      "18it [00:00, 36.50it/s]\n"
     ]
    },
    {
     "name": "stdout",
     "output_type": "stream",
     "text": [
      "0.8149616198148317\n",
      "Initialized logger with name mice 1-3\n",
      "Dataset 0\n",
      "1  | ss_quantity | ss_wholesale_cost | ss_list_price | ss_coupon_amt | ss_net_paid | ss_sales_price | ss_ext_discount_amt | ss_ext_list_price | ss_ext_wholesale_cost | ss_net_profit | ss_ext_tax | ss_net_paid_inc_tax | ss_ext_sales_price\n",
      "2  | ss_quantity | ss_wholesale_cost | ss_list_price | ss_coupon_amt | ss_net_paid | ss_sales_price | ss_ext_discount_amt | ss_ext_list_price | ss_ext_wholesale_cost | ss_net_profit | ss_ext_tax | ss_net_paid_inc_tax | ss_ext_sales_price\n",
      "3  | ss_quantity | ss_wholesale_cost | ss_list_price | ss_coupon_amt | ss_net_paid | ss_sales_price | ss_ext_discount_amt | ss_ext_list_price | ss_ext_wholesale_cost | ss_net_profit | ss_ext_tax | ss_net_paid_inc_tax | ss_ext_sales_price\n",
      "Dataset 1\n",
      "1  | ss_quantity | ss_wholesale_cost | ss_list_price | ss_coupon_amt | ss_net_paid | ss_sales_price | ss_ext_discount_amt | ss_ext_list_price | ss_ext_wholesale_cost | ss_net_profit | ss_ext_tax | ss_net_paid_inc_tax | ss_ext_sales_price\n",
      "2  | ss_quantity | ss_wholesale_cost | ss_list_price | ss_coupon_amt | ss_net_paid | ss_sales_price | ss_ext_discount_amt | ss_ext_list_price | ss_ext_wholesale_cost | ss_net_profit | ss_ext_tax | ss_net_paid_inc_tax | ss_ext_sales_price\n",
      "3  | ss_quantity | ss_wholesale_cost | ss_list_price | ss_coupon_amt | ss_net_paid | ss_sales_price | ss_ext_discount_amt | ss_ext_list_price | ss_ext_wholesale_cost | ss_net_profit | ss_ext_tax | ss_net_paid_inc_tax | ss_ext_sales_price\n",
      "Dataset 2\n",
      "1  | ss_quantity | ss_wholesale_cost | ss_list_price | ss_coupon_amt | ss_net_paid | ss_sales_price | ss_ext_discount_amt | ss_ext_list_price | ss_ext_wholesale_cost | ss_net_profit | ss_ext_tax | ss_net_paid_inc_tax | ss_ext_sales_price\n",
      "2  | ss_quantity | ss_wholesale_cost | ss_list_price | ss_coupon_amt | ss_net_paid | ss_sales_price | ss_ext_discount_amt | ss_ext_list_price | ss_ext_wholesale_cost | ss_net_profit | ss_ext_tax | ss_net_paid_inc_tax | ss_ext_sales_price\n",
      "3  | ss_quantity | ss_wholesale_cost | ss_list_price | ss_coupon_amt | ss_net_paid | ss_sales_price | ss_ext_discount_amt | ss_ext_list_price | ss_ext_wholesale_cost | ss_net_profit | ss_ext_tax | ss_net_paid_inc_tax | ss_ext_sales_price\n",
      "Dataset 3\n",
      "1  | ss_quantity | ss_wholesale_cost | ss_list_price | ss_coupon_amt | ss_net_paid | ss_sales_price | ss_ext_discount_amt | ss_ext_list_price | ss_ext_wholesale_cost | ss_net_profit | ss_ext_tax | ss_net_paid_inc_tax | ss_ext_sales_price\n",
      "2  | ss_quantity | ss_wholesale_cost | ss_list_price | ss_coupon_amt | ss_net_paid | ss_sales_price | ss_ext_discount_amt | ss_ext_list_price | ss_ext_wholesale_cost | ss_net_profit | ss_ext_tax | ss_net_paid_inc_tax | ss_ext_sales_price\n",
      "3  | ss_quantity | ss_wholesale_cost | ss_list_price | ss_coupon_amt | ss_net_paid | ss_sales_price | ss_ext_discount_amt | ss_ext_list_price | ss_ext_wholesale_cost | ss_net_profit | ss_ext_tax | ss_net_paid_inc_tax | ss_ext_sales_price\n",
      "Dataset 4\n",
      "1  | ss_quantity | ss_wholesale_cost | ss_list_price | ss_coupon_amt | ss_net_paid | ss_sales_price | ss_ext_discount_amt | ss_ext_list_price | ss_ext_wholesale_cost | ss_net_profit | ss_ext_tax | ss_net_paid_inc_tax | ss_ext_sales_price\n",
      "2  | ss_quantity | ss_wholesale_cost | ss_list_price | ss_coupon_amt | ss_net_paid | ss_sales_price | ss_ext_discount_amt | ss_ext_list_price | ss_ext_wholesale_cost | ss_net_profit | ss_ext_tax | ss_net_paid_inc_tax | ss_ext_sales_price\n",
      "3  | ss_quantity | ss_wholesale_cost | ss_list_price | ss_coupon_amt | ss_net_paid | ss_sales_price | ss_ext_discount_amt | ss_ext_list_price | ss_ext_wholesale_cost | ss_net_profit | ss_ext_tax | ss_net_paid_inc_tax | ss_ext_sales_price\n"
     ]
    },
    {
     "name": "stderr",
     "output_type": "stream",
     "text": [
      "18it [00:00, 38.50it/s]\n"
     ]
    },
    {
     "name": "stdout",
     "output_type": "stream",
     "text": [
      "0.8227655825538931\n",
      "Initialized logger with name mice 1-3\n",
      "Dataset 0\n",
      "1  | ss_quantity | ss_wholesale_cost | ss_list_price | ss_coupon_amt | ss_net_paid | ss_sales_price | ss_ext_discount_amt | ss_ext_list_price | ss_ext_wholesale_cost | ss_net_profit | ss_ext_tax | ss_net_paid_inc_tax | ss_ext_sales_price\n",
      "2  | ss_quantity | ss_wholesale_cost | ss_list_price | ss_coupon_amt | ss_net_paid | ss_sales_price | ss_ext_discount_amt | ss_ext_list_price | ss_ext_wholesale_cost | ss_net_profit | ss_ext_tax | ss_net_paid_inc_tax | ss_ext_sales_price\n",
      "3  | ss_quantity | ss_wholesale_cost | ss_list_price | ss_coupon_amt | ss_net_paid | ss_sales_price | ss_ext_discount_amt | ss_ext_list_price | ss_ext_wholesale_cost | ss_net_profit | ss_ext_tax | ss_net_paid_inc_tax | ss_ext_sales_price\n",
      "Dataset 1\n",
      "1  | ss_quantity | ss_wholesale_cost | ss_list_price | ss_coupon_amt | ss_net_paid | ss_sales_price | ss_ext_discount_amt | ss_ext_list_price | ss_ext_wholesale_cost | ss_net_profit | ss_ext_tax | ss_net_paid_inc_tax | ss_ext_sales_price\n",
      "2  | ss_quantity | ss_wholesale_cost | ss_list_price | ss_coupon_amt | ss_net_paid | ss_sales_price | ss_ext_discount_amt | ss_ext_list_price | ss_ext_wholesale_cost | ss_net_profit | ss_ext_tax | ss_net_paid_inc_tax | ss_ext_sales_price\n",
      "3  | ss_quantity | ss_wholesale_cost | ss_list_price | ss_coupon_amt | ss_net_paid | ss_sales_price | ss_ext_discount_amt | ss_ext_list_price | ss_ext_wholesale_cost | ss_net_profit | ss_ext_tax | ss_net_paid_inc_tax | ss_ext_sales_price\n",
      "Dataset 2\n",
      "1  | ss_quantity | ss_wholesale_cost | ss_list_price | ss_coupon_amt | ss_net_paid | ss_sales_price | ss_ext_discount_amt | ss_ext_list_price | ss_ext_wholesale_cost | ss_net_profit | ss_ext_tax | ss_net_paid_inc_tax | ss_ext_sales_price\n",
      "2  | ss_quantity | ss_wholesale_cost | ss_list_price | ss_coupon_amt | ss_net_paid | ss_sales_price | ss_ext_discount_amt | ss_ext_list_price | ss_ext_wholesale_cost | ss_net_profit | ss_ext_tax | ss_net_paid_inc_tax | ss_ext_sales_price\n",
      "3  | ss_quantity | ss_wholesale_cost | ss_list_price | ss_coupon_amt | ss_net_paid | ss_sales_price | ss_ext_discount_amt | ss_ext_list_price | ss_ext_wholesale_cost | ss_net_profit | ss_ext_tax | ss_net_paid_inc_tax | ss_ext_sales_price\n",
      "Dataset 3\n",
      "1  | ss_quantity | ss_wholesale_cost | ss_list_price | ss_coupon_amt | ss_net_paid | ss_sales_price | ss_ext_discount_amt | ss_ext_list_price | ss_ext_wholesale_cost | ss_net_profit | ss_ext_tax | ss_net_paid_inc_tax | ss_ext_sales_price\n",
      "2  | ss_quantity | ss_wholesale_cost | ss_list_price | ss_coupon_amt | ss_net_paid | ss_sales_price | ss_ext_discount_amt | ss_ext_list_price | ss_ext_wholesale_cost | ss_net_profit | ss_ext_tax | ss_net_paid_inc_tax | ss_ext_sales_price\n",
      "3  | ss_quantity | ss_wholesale_cost | ss_list_price | ss_coupon_amt | ss_net_paid | ss_sales_price | ss_ext_discount_amt | ss_ext_list_price | ss_ext_wholesale_cost | ss_net_profit | ss_ext_tax | ss_net_paid_inc_tax | ss_ext_sales_price\n",
      "Dataset 4\n",
      "1  | ss_quantity | ss_wholesale_cost | ss_list_price | ss_coupon_amt | ss_net_paid | ss_sales_price | ss_ext_discount_amt | ss_ext_list_price | ss_ext_wholesale_cost | ss_net_profit | ss_ext_tax | ss_net_paid_inc_tax | ss_ext_sales_price\n",
      "2  | ss_quantity | ss_wholesale_cost | ss_list_price | ss_coupon_amt | ss_net_paid | ss_sales_price | ss_ext_discount_amt | ss_ext_list_price | ss_ext_wholesale_cost | ss_net_profit | ss_ext_tax | ss_net_paid_inc_tax | ss_ext_sales_price\n",
      "3  | ss_quantity | ss_wholesale_cost | ss_list_price | ss_coupon_amt | ss_net_paid | ss_sales_price | ss_ext_discount_amt | ss_ext_list_price | ss_ext_wholesale_cost | ss_net_profit | ss_ext_tax | ss_net_paid_inc_tax | ss_ext_sales_price\n"
     ]
    },
    {
     "name": "stderr",
     "output_type": "stream",
     "text": [
      "18it [00:00, 39.04it/s]\n"
     ]
    },
    {
     "name": "stdout",
     "output_type": "stream",
     "text": [
      "0.828696460384769\n",
      "Initialized logger with name mice 1-3\n",
      "Dataset 0\n",
      "1  | ss_quantity | ss_wholesale_cost | ss_list_price | ss_coupon_amt | ss_net_paid | ss_sales_price | ss_ext_discount_amt | ss_ext_list_price | ss_ext_wholesale_cost | ss_net_profit | ss_ext_tax | ss_net_paid_inc_tax | ss_ext_sales_price\n",
      "2  | ss_quantity | ss_wholesale_cost | ss_list_price | ss_coupon_amt | ss_net_paid | ss_sales_price | ss_ext_discount_amt | ss_ext_list_price | ss_ext_wholesale_cost | ss_net_profit | ss_ext_tax | ss_net_paid_inc_tax | ss_ext_sales_price\n",
      "3  | ss_quantity | ss_wholesale_cost | ss_list_price | ss_coupon_amt | ss_net_paid | ss_sales_price | ss_ext_discount_amt | ss_ext_list_price | ss_ext_wholesale_cost | ss_net_profit | ss_ext_tax | ss_net_paid_inc_tax | ss_ext_sales_price\n",
      "Dataset 1\n",
      "1  | ss_quantity | ss_wholesale_cost | ss_list_price | ss_coupon_amt | ss_net_paid | ss_sales_price | ss_ext_discount_amt | ss_ext_list_price | ss_ext_wholesale_cost | ss_net_profit | ss_ext_tax | ss_net_paid_inc_tax | ss_ext_sales_price\n",
      "2  | ss_quantity | ss_wholesale_cost | ss_list_price | ss_coupon_amt | ss_net_paid | ss_sales_price | ss_ext_discount_amt | ss_ext_list_price | ss_ext_wholesale_cost | ss_net_profit | ss_ext_tax | ss_net_paid_inc_tax | ss_ext_sales_price\n",
      "3  | ss_quantity | ss_wholesale_cost | ss_list_price | ss_coupon_amt | ss_net_paid | ss_sales_price | ss_ext_discount_amt | ss_ext_list_price | ss_ext_wholesale_cost | ss_net_profit | ss_ext_tax | ss_net_paid_inc_tax | ss_ext_sales_price\n",
      "Dataset 2\n",
      "1  | ss_quantity | ss_wholesale_cost | ss_list_price | ss_coupon_amt | ss_net_paid | ss_sales_price | ss_ext_discount_amt | ss_ext_list_price | ss_ext_wholesale_cost | ss_net_profit | ss_ext_tax | ss_net_paid_inc_tax | ss_ext_sales_price\n",
      "2  | ss_quantity | ss_wholesale_cost | ss_list_price | ss_coupon_amt | ss_net_paid | ss_sales_price | ss_ext_discount_amt | ss_ext_list_price | ss_ext_wholesale_cost | ss_net_profit | ss_ext_tax | ss_net_paid_inc_tax | ss_ext_sales_price\n",
      "3  | ss_quantity | ss_wholesale_cost | ss_list_price | ss_coupon_amt | ss_net_paid | ss_sales_price | ss_ext_discount_amt | ss_ext_list_price | ss_ext_wholesale_cost | ss_net_profit | ss_ext_tax | ss_net_paid_inc_tax | ss_ext_sales_price\n",
      "Dataset 3\n",
      "1  | ss_quantity | ss_wholesale_cost | ss_list_price | ss_coupon_amt | ss_net_paid | ss_sales_price | ss_ext_discount_amt | ss_ext_list_price | ss_ext_wholesale_cost | ss_net_profit | ss_ext_tax | ss_net_paid_inc_tax | ss_ext_sales_price\n",
      "2  | ss_quantity | ss_wholesale_cost | ss_list_price | ss_coupon_amt | ss_net_paid | ss_sales_price | ss_ext_discount_amt | ss_ext_list_price | ss_ext_wholesale_cost | ss_net_profit | ss_ext_tax | ss_net_paid_inc_tax | ss_ext_sales_price\n",
      "3  | ss_quantity | ss_wholesale_cost | ss_list_price | ss_coupon_amt | ss_net_paid | ss_sales_price | ss_ext_discount_amt | ss_ext_list_price | ss_ext_wholesale_cost | ss_net_profit | ss_ext_tax | ss_net_paid_inc_tax | ss_ext_sales_price\n",
      "Dataset 4\n",
      "1  | ss_quantity | ss_wholesale_cost | ss_list_price | ss_coupon_amt | ss_net_paid | ss_sales_price | ss_ext_discount_amt | ss_ext_list_price | ss_ext_wholesale_cost | ss_net_profit | ss_ext_tax | ss_net_paid_inc_tax | ss_ext_sales_price\n",
      "2  | ss_quantity | ss_wholesale_cost | ss_list_price | ss_coupon_amt | ss_net_paid | ss_sales_price | ss_ext_discount_amt | ss_ext_list_price | ss_ext_wholesale_cost | ss_net_profit | ss_ext_tax | ss_net_paid_inc_tax | ss_ext_sales_price\n",
      "3  | ss_quantity | ss_wholesale_cost | ss_list_price | ss_coupon_amt | ss_net_paid | ss_sales_price | ss_ext_discount_amt | ss_ext_list_price | ss_ext_wholesale_cost | ss_net_profit | ss_ext_tax | ss_net_paid_inc_tax | ss_ext_sales_price\n"
     ]
    },
    {
     "name": "stderr",
     "output_type": "stream",
     "text": [
      "18it [00:00, 38.26it/s]\n"
     ]
    },
    {
     "name": "stdout",
     "output_type": "stream",
     "text": [
      "0.8346438567974594\n",
      "Initialized logger with name mice 1-3\n",
      "Dataset 0\n",
      "1  | ss_quantity | ss_wholesale_cost | ss_list_price | ss_coupon_amt | ss_net_paid | ss_sales_price | ss_ext_discount_amt | ss_ext_list_price | ss_ext_wholesale_cost | ss_net_profit | ss_ext_tax | ss_net_paid_inc_tax | ss_ext_sales_price\n",
      "2  | ss_quantity | ss_wholesale_cost | ss_list_price | ss_coupon_amt | ss_net_paid | ss_sales_price | ss_ext_discount_amt | ss_ext_list_price | ss_ext_wholesale_cost | ss_net_profit | ss_ext_tax | ss_net_paid_inc_tax | ss_ext_sales_price\n",
      "3  | ss_quantity | ss_wholesale_cost | ss_list_price | ss_coupon_amt | ss_net_paid | ss_sales_price | ss_ext_discount_amt | ss_ext_list_price | ss_ext_wholesale_cost | ss_net_profit | ss_ext_tax | ss_net_paid_inc_tax | ss_ext_sales_price\n",
      "Dataset 1\n",
      "1  | ss_quantity | ss_wholesale_cost | ss_list_price | ss_coupon_amt | ss_net_paid | ss_sales_price | ss_ext_discount_amt | ss_ext_list_price | ss_ext_wholesale_cost | ss_net_profit | ss_ext_tax | ss_net_paid_inc_tax | ss_ext_sales_price\n",
      "2  | ss_quantity | ss_wholesale_cost | ss_list_price | ss_coupon_amt | ss_net_paid | ss_sales_price | ss_ext_discount_amt | ss_ext_list_price | ss_ext_wholesale_cost | ss_net_profit | ss_ext_tax | ss_net_paid_inc_tax | ss_ext_sales_price\n",
      "3  | ss_quantity | ss_wholesale_cost | ss_list_price | ss_coupon_amt | ss_net_paid | ss_sales_price | ss_ext_discount_amt | ss_ext_list_price | ss_ext_wholesale_cost | ss_net_profit | ss_ext_tax | ss_net_paid_inc_tax | ss_ext_sales_price\n",
      "Dataset 2\n",
      "1  | ss_quantity | ss_wholesale_cost | ss_list_price | ss_coupon_amt | ss_net_paid | ss_sales_price | ss_ext_discount_amt | ss_ext_list_price | ss_ext_wholesale_cost | ss_net_profit | ss_ext_tax | ss_net_paid_inc_tax | ss_ext_sales_price\n",
      "2  | ss_quantity | ss_wholesale_cost | ss_list_price | ss_coupon_amt | ss_net_paid | ss_sales_price | ss_ext_discount_amt | ss_ext_list_price | ss_ext_wholesale_cost | ss_net_profit | ss_ext_tax | ss_net_paid_inc_tax | ss_ext_sales_price\n",
      "3  | ss_quantity | ss_wholesale_cost | ss_list_price | ss_coupon_amt | ss_net_paid | ss_sales_price | ss_ext_discount_amt | ss_ext_list_price | ss_ext_wholesale_cost | ss_net_profit | ss_ext_tax | ss_net_paid_inc_tax | ss_ext_sales_price\n",
      "Dataset 3\n",
      "1  | ss_quantity | ss_wholesale_cost | ss_list_price | ss_coupon_amt | ss_net_paid | ss_sales_price | ss_ext_discount_amt | ss_ext_list_price | ss_ext_wholesale_cost | ss_net_profit | ss_ext_tax | ss_net_paid_inc_tax | ss_ext_sales_price\n",
      "2  | ss_quantity | ss_wholesale_cost | ss_list_price | ss_coupon_amt | ss_net_paid | ss_sales_price | ss_ext_discount_amt | ss_ext_list_price | ss_ext_wholesale_cost | ss_net_profit | ss_ext_tax | ss_net_paid_inc_tax | ss_ext_sales_price\n",
      "3  | ss_quantity | ss_wholesale_cost | ss_list_price | ss_coupon_amt | ss_net_paid | ss_sales_price | ss_ext_discount_amt | ss_ext_list_price | ss_ext_wholesale_cost | ss_net_profit | ss_ext_tax | ss_net_paid_inc_tax | ss_ext_sales_price\n",
      "Dataset 4\n",
      "1  | ss_quantity | ss_wholesale_cost | ss_list_price | ss_coupon_amt | ss_net_paid | ss_sales_price | ss_ext_discount_amt | ss_ext_list_price | ss_ext_wholesale_cost | ss_net_profit | ss_ext_tax | ss_net_paid_inc_tax | ss_ext_sales_price\n",
      "2  | ss_quantity | ss_wholesale_cost | ss_list_price | ss_coupon_amt | ss_net_paid | ss_sales_price | ss_ext_discount_amt | ss_ext_list_price | ss_ext_wholesale_cost | ss_net_profit | ss_ext_tax | ss_net_paid_inc_tax | ss_ext_sales_price\n",
      "3  | ss_quantity | ss_wholesale_cost | ss_list_price | ss_coupon_amt | ss_net_paid | ss_sales_price | ss_ext_discount_amt | ss_ext_list_price | ss_ext_wholesale_cost | ss_net_profit | ss_ext_tax | ss_net_paid_inc_tax | ss_ext_sales_price\n"
     ]
    },
    {
     "name": "stderr",
     "output_type": "stream",
     "text": [
      "18it [00:00, 39.82it/s]"
     ]
    },
    {
     "name": "stdout",
     "output_type": "stream",
     "text": [
      "0.840297587931968\n"
     ]
    },
    {
     "name": "stderr",
     "output_type": "stream",
     "text": [
      "\n"
     ]
    }
   ],
   "source": [
    "precisions = []\n",
    "rmses = []\n",
    "for budget in [0]:\n",
    "    budget = (budget+1)*0.01 \n",
    "    num_rounds = 20  \n",
    "    df_miss_copy = df_miss.copy()\n",
    "    for i in range(num_rounds):\n",
    "        # df_miss_copy = uncertainty_acquisition(df_miss_copy, df_arr, budget/num_rounds, queries, W)\n",
    "        df_miss_copy = greedy_and_improve_acquisition(df_miss_copy, df_arr, budget/num_rounds, queries, W)\n",
    "        \n",
    "        df_miss_copy_copy = df_miss_copy.copy()\n",
    "        pres, rs = get_acc(queries, df_miss_copy_copy, df_arr, W)\n",
    "        print(pres)\n",
    "        precisions.append(pres)\n",
    "        rmses.append(rs)"
   ]
  },
  {
   "cell_type": "code",
   "execution_count": null,
   "id": "957426d5",
   "metadata": {
    "collapsed": true
   },
   "outputs": [],
   "source": []
  },
  {
   "cell_type": "code",
   "execution_count": 15,
   "id": "a964fd44",
   "metadata": {},
   "outputs": [],
   "source": [
    "hybrid = precisions"
   ]
  },
  {
   "cell_type": "code",
   "execution_count": 23,
   "id": "dd91fdf3",
   "metadata": {},
   "outputs": [],
   "source": [
    "uncertainty = precisions"
   ]
  },
  {
   "cell_type": "code",
   "execution_count": 22,
   "id": "7e894f2f",
   "metadata": {},
   "outputs": [
    {
     "data": {
      "text/plain": [
       "[0.557925679218539,\n",
       " 0.571628850358341,\n",
       " 0.5979921964086085,\n",
       " 0.6076783490826523,\n",
       " 0.628133119396837,\n",
       " 0.6529898159746595,\n",
       " 0.6656047462971022,\n",
       " 0.6923443637520283,\n",
       " 0.7010100996708942,\n",
       " 0.7214353549940791,\n",
       " 0.7297389645275586,\n",
       " 0.7455587483760026,\n",
       " 0.7545805420773513,\n",
       " 0.7697610195631631,\n",
       " 0.7784372935745261,\n",
       " 0.79320713771285,\n",
       " 0.8003496112157444,\n",
       " 0.8101099250548035,\n",
       " 0.8161727298085587,\n",
       " 0.8249552550780637]"
      ]
     },
     "execution_count": 22,
     "metadata": {},
     "output_type": "execute_result"
    }
   ],
   "source": [
    "hybrid"
   ]
  },
  {
   "cell_type": "code",
   "execution_count": 24,
   "id": "0f3ca84e",
   "metadata": {},
   "outputs": [],
   "source": [
    "df_output = pd.DataFrame({'Hybrid':hybrid, 'uncertainty':uncertainty})"
   ]
  },
  {
   "cell_type": "code",
   "execution_count": 25,
   "id": "75487314",
   "metadata": {},
   "outputs": [],
   "source": [
    "df_output.to_csv(\"TPCDS-utility.csv\")"
   ]
  },
  {
   "cell_type": "code",
   "execution_count": 12,
   "id": "b86e081b",
   "metadata": {},
   "outputs": [],
   "source": [
    "df_output = pd.read_csv(\"TPCDS-utility.csv\")"
   ]
  },
  {
   "cell_type": "code",
   "execution_count": 16,
   "id": "637a8d14",
   "metadata": {},
   "outputs": [],
   "source": [
    "df_output = df_output.drop(\"Unnamed: 0\", axis=1)"
   ]
  },
  {
   "cell_type": "code",
   "execution_count": 17,
   "id": "310fd555",
   "metadata": {},
   "outputs": [],
   "source": [
    "df_output['utility'] = precisions"
   ]
  },
  {
   "cell_type": "code",
   "execution_count": 19,
   "id": "c738d257",
   "metadata": {},
   "outputs": [],
   "source": [
    "df_output.to_csv(\"TPCDS-utility.csv\", index=None)"
   ]
  },
  {
   "cell_type": "code",
   "execution_count": 20,
   "id": "d868e4d3",
   "metadata": {},
   "outputs": [
    {
     "data": {
      "text/plain": [
       "18"
      ]
     },
     "execution_count": 20,
     "metadata": {},
     "output_type": "execute_result"
    }
   ],
   "source": [
    "len(queries)"
   ]
  },
  {
   "cell_type": "code",
   "execution_count": 24,
   "id": "76a5fd90",
   "metadata": {},
   "outputs": [],
   "source": [
    "cnt = 0\n",
    "for query in queries:\n",
    "    df_tmp = query_on_df(query, df_arr)\n",
    "    cnt += len(df_tmp)"
   ]
  },
  {
   "cell_type": "code",
   "execution_count": 25,
   "id": "d130b62a",
   "metadata": {},
   "outputs": [
    {
     "data": {
      "text/plain": [
       "44646"
      ]
     },
     "execution_count": 25,
     "metadata": {},
     "output_type": "execute_result"
    }
   ],
   "source": [
    "cnt"
   ]
  },
  {
   "cell_type": "code",
   "execution_count": 26,
   "id": "9c00853b",
   "metadata": {},
   "outputs": [
    {
     "data": {
      "text/plain": [
       "0.9995968283832818"
      ]
     },
     "execution_count": 26,
     "metadata": {},
     "output_type": "execute_result"
    }
   ],
   "source": [
    "1-18/44646"
   ]
  },
  {
   "cell_type": "code",
   "execution_count": 27,
   "id": "54900daf",
   "metadata": {},
   "outputs": [
    {
     "data": {
      "text/plain": [
       "0.23328000000000002"
      ]
     },
     "execution_count": 27,
     "metadata": {},
     "output_type": "execute_result"
    }
   ],
   "source": [
    "0.9*0.9*0.96*0.3"
   ]
  },
  {
   "cell_type": "code",
   "execution_count": 28,
   "id": "34f8368c",
   "metadata": {},
   "outputs": [
    {
     "data": {
      "text/plain": [
       "0.00864"
      ]
     },
     "execution_count": 28,
     "metadata": {},
     "output_type": "execute_result"
    }
   ],
   "source": [
    "0.9*0.8*0.04*0.3"
   ]
  },
  {
   "cell_type": "code",
   "execution_count": 29,
   "id": "62b8c567",
   "metadata": {},
   "outputs": [
    {
     "data": {
      "text/plain": [
       "2880404"
      ]
     },
     "execution_count": 29,
     "metadata": {},
     "output_type": "execute_result"
    }
   ],
   "source": [
    "len(df)"
   ]
  },
  {
   "cell_type": "code",
   "execution_count": 33,
   "id": "faf7c865",
   "metadata": {},
   "outputs": [],
   "source": [
    "s= 1\n",
    "for _ in list(df_arr.nunique()):\n",
    "    s *= _"
   ]
  },
  {
   "cell_type": "code",
   "execution_count": 36,
   "id": "1bee74c7",
   "metadata": {},
   "outputs": [
    {
     "data": {
      "text/html": [
       "<div>\n",
       "<style scoped>\n",
       "    .dataframe tbody tr th:only-of-type {\n",
       "        vertical-align: middle;\n",
       "    }\n",
       "\n",
       "    .dataframe tbody tr th {\n",
       "        vertical-align: top;\n",
       "    }\n",
       "\n",
       "    .dataframe thead th {\n",
       "        text-align: right;\n",
       "    }\n",
       "</style>\n",
       "<table border=\"1\" class=\"dataframe\">\n",
       "  <thead>\n",
       "    <tr style=\"text-align: right;\">\n",
       "      <th></th>\n",
       "      <th>ss_quantity</th>\n",
       "      <th>ss_wholesale_cost</th>\n",
       "      <th>ss_list_price</th>\n",
       "      <th>ss_sales_price</th>\n",
       "      <th>ss_ext_discount_amt</th>\n",
       "      <th>ss_ext_sales_price</th>\n",
       "      <th>ss_ext_wholesale_cost</th>\n",
       "      <th>ss_ext_list_price</th>\n",
       "      <th>ss_ext_tax</th>\n",
       "      <th>ss_coupon_amt</th>\n",
       "      <th>ss_net_paid</th>\n",
       "      <th>ss_net_paid_inc_tax</th>\n",
       "      <th>ss_net_profit</th>\n",
       "    </tr>\n",
       "  </thead>\n",
       "  <tbody>\n",
       "    <tr>\n",
       "      <th>0</th>\n",
       "      <td>79.0</td>\n",
       "      <td>11.41</td>\n",
       "      <td>18.71</td>\n",
       "      <td>2.80</td>\n",
       "      <td>99.54</td>\n",
       "      <td>221.20</td>\n",
       "      <td>901.39</td>\n",
       "      <td>1478.09</td>\n",
       "      <td>6.08</td>\n",
       "      <td>99.54</td>\n",
       "      <td>121.66</td>\n",
       "      <td>127.74</td>\n",
       "      <td>-779.73</td>\n",
       "    </tr>\n",
       "    <tr>\n",
       "      <th>1</th>\n",
       "      <td>37.0</td>\n",
       "      <td>63.63</td>\n",
       "      <td>101.17</td>\n",
       "      <td>41.47</td>\n",
       "      <td>46.03</td>\n",
       "      <td>1534.39</td>\n",
       "      <td>2354.31</td>\n",
       "      <td>3743.29</td>\n",
       "      <td>59.53</td>\n",
       "      <td>46.03</td>\n",
       "      <td>1488.36</td>\n",
       "      <td>1547.89</td>\n",
       "      <td>-865.95</td>\n",
       "    </tr>\n",
       "    <tr>\n",
       "      <th>2</th>\n",
       "      <td>99.0</td>\n",
       "      <td>80.52</td>\n",
       "      <td>137.68</td>\n",
       "      <td>83.98</td>\n",
       "      <td>0.00</td>\n",
       "      <td>8314.02</td>\n",
       "      <td>7971.48</td>\n",
       "      <td>13630.32</td>\n",
       "      <td>0.00</td>\n",
       "      <td>0.00</td>\n",
       "      <td>8314.02</td>\n",
       "      <td>8314.02</td>\n",
       "      <td>342.54</td>\n",
       "    </tr>\n",
       "    <tr>\n",
       "      <th>3</th>\n",
       "      <td>14.0</td>\n",
       "      <td>57.37</td>\n",
       "      <td>76.30</td>\n",
       "      <td>6.10</td>\n",
       "      <td>0.00</td>\n",
       "      <td>85.40</td>\n",
       "      <td>803.18</td>\n",
       "      <td>1068.20</td>\n",
       "      <td>0.00</td>\n",
       "      <td>0.00</td>\n",
       "      <td>85.40</td>\n",
       "      <td>85.40</td>\n",
       "      <td>-717.78</td>\n",
       "    </tr>\n",
       "    <tr>\n",
       "      <th>4</th>\n",
       "      <td>100.0</td>\n",
       "      <td>25.08</td>\n",
       "      <td>36.86</td>\n",
       "      <td>0.73</td>\n",
       "      <td>0.00</td>\n",
       "      <td>73.00</td>\n",
       "      <td>2508.00</td>\n",
       "      <td>3686.00</td>\n",
       "      <td>6.57</td>\n",
       "      <td>0.00</td>\n",
       "      <td>73.00</td>\n",
       "      <td>79.57</td>\n",
       "      <td>-2435.00</td>\n",
       "    </tr>\n",
       "    <tr>\n",
       "      <th>...</th>\n",
       "      <td>...</td>\n",
       "      <td>...</td>\n",
       "      <td>...</td>\n",
       "      <td>...</td>\n",
       "      <td>...</td>\n",
       "      <td>...</td>\n",
       "      <td>...</td>\n",
       "      <td>...</td>\n",
       "      <td>...</td>\n",
       "      <td>...</td>\n",
       "      <td>...</td>\n",
       "      <td>...</td>\n",
       "      <td>...</td>\n",
       "    </tr>\n",
       "    <tr>\n",
       "      <th>2880399</th>\n",
       "      <td>41.0</td>\n",
       "      <td>18.00</td>\n",
       "      <td>34.02</td>\n",
       "      <td>14.62</td>\n",
       "      <td>0.00</td>\n",
       "      <td>599.42</td>\n",
       "      <td>738.00</td>\n",
       "      <td>1394.82</td>\n",
       "      <td>11.98</td>\n",
       "      <td>0.00</td>\n",
       "      <td>599.42</td>\n",
       "      <td>611.40</td>\n",
       "      <td>-138.58</td>\n",
       "    </tr>\n",
       "    <tr>\n",
       "      <th>2880400</th>\n",
       "      <td>65.0</td>\n",
       "      <td>35.22</td>\n",
       "      <td>53.18</td>\n",
       "      <td>35.09</td>\n",
       "      <td>0.00</td>\n",
       "      <td>2280.85</td>\n",
       "      <td>2289.30</td>\n",
       "      <td>3456.70</td>\n",
       "      <td>182.46</td>\n",
       "      <td>0.00</td>\n",
       "      <td>2280.85</td>\n",
       "      <td>2463.31</td>\n",
       "      <td>-8.45</td>\n",
       "    </tr>\n",
       "    <tr>\n",
       "      <th>2880401</th>\n",
       "      <td>13.0</td>\n",
       "      <td>61.07</td>\n",
       "      <td>64.12</td>\n",
       "      <td>62.19</td>\n",
       "      <td>0.00</td>\n",
       "      <td>808.47</td>\n",
       "      <td>793.91</td>\n",
       "      <td>833.56</td>\n",
       "      <td>64.67</td>\n",
       "      <td>0.00</td>\n",
       "      <td>808.47</td>\n",
       "      <td>873.14</td>\n",
       "      <td>14.56</td>\n",
       "    </tr>\n",
       "    <tr>\n",
       "      <th>2880402</th>\n",
       "      <td>86.0</td>\n",
       "      <td>83.78</td>\n",
       "      <td>150.80</td>\n",
       "      <td>150.80</td>\n",
       "      <td>0.00</td>\n",
       "      <td>12968.80</td>\n",
       "      <td>7205.08</td>\n",
       "      <td>12968.80</td>\n",
       "      <td>0.00</td>\n",
       "      <td>0.00</td>\n",
       "      <td>12968.80</td>\n",
       "      <td>12968.80</td>\n",
       "      <td>5763.72</td>\n",
       "    </tr>\n",
       "    <tr>\n",
       "      <th>2880403</th>\n",
       "      <td>68.0</td>\n",
       "      <td>81.95</td>\n",
       "      <td>105.71</td>\n",
       "      <td>1.05</td>\n",
       "      <td>0.00</td>\n",
       "      <td>71.40</td>\n",
       "      <td>5572.60</td>\n",
       "      <td>7188.28</td>\n",
       "      <td>1.42</td>\n",
       "      <td>0.00</td>\n",
       "      <td>71.40</td>\n",
       "      <td>72.82</td>\n",
       "      <td>-5501.20</td>\n",
       "    </tr>\n",
       "  </tbody>\n",
       "</table>\n",
       "<p>2880404 rows × 13 columns</p>\n",
       "</div>"
      ],
      "text/plain": [
       "         ss_quantity  ss_wholesale_cost  ss_list_price  ss_sales_price   \n",
       "0               79.0              11.41          18.71            2.80  \\\n",
       "1               37.0              63.63         101.17           41.47   \n",
       "2               99.0              80.52         137.68           83.98   \n",
       "3               14.0              57.37          76.30            6.10   \n",
       "4              100.0              25.08          36.86            0.73   \n",
       "...              ...                ...            ...             ...   \n",
       "2880399         41.0              18.00          34.02           14.62   \n",
       "2880400         65.0              35.22          53.18           35.09   \n",
       "2880401         13.0              61.07          64.12           62.19   \n",
       "2880402         86.0              83.78         150.80          150.80   \n",
       "2880403         68.0              81.95         105.71            1.05   \n",
       "\n",
       "         ss_ext_discount_amt  ss_ext_sales_price  ss_ext_wholesale_cost   \n",
       "0                      99.54              221.20                 901.39  \\\n",
       "1                      46.03             1534.39                2354.31   \n",
       "2                       0.00             8314.02                7971.48   \n",
       "3                       0.00               85.40                 803.18   \n",
       "4                       0.00               73.00                2508.00   \n",
       "...                      ...                 ...                    ...   \n",
       "2880399                 0.00              599.42                 738.00   \n",
       "2880400                 0.00             2280.85                2289.30   \n",
       "2880401                 0.00              808.47                 793.91   \n",
       "2880402                 0.00            12968.80                7205.08   \n",
       "2880403                 0.00               71.40                5572.60   \n",
       "\n",
       "         ss_ext_list_price  ss_ext_tax  ss_coupon_amt  ss_net_paid   \n",
       "0                  1478.09        6.08          99.54       121.66  \\\n",
       "1                  3743.29       59.53          46.03      1488.36   \n",
       "2                 13630.32        0.00           0.00      8314.02   \n",
       "3                  1068.20        0.00           0.00        85.40   \n",
       "4                  3686.00        6.57           0.00        73.00   \n",
       "...                    ...         ...            ...          ...   \n",
       "2880399            1394.82       11.98           0.00       599.42   \n",
       "2880400            3456.70      182.46           0.00      2280.85   \n",
       "2880401             833.56       64.67           0.00       808.47   \n",
       "2880402           12968.80        0.00           0.00     12968.80   \n",
       "2880403            7188.28        1.42           0.00        71.40   \n",
       "\n",
       "         ss_net_paid_inc_tax  ss_net_profit  \n",
       "0                     127.74        -779.73  \n",
       "1                    1547.89        -865.95  \n",
       "2                    8314.02         342.54  \n",
       "3                      85.40        -717.78  \n",
       "4                      79.57       -2435.00  \n",
       "...                      ...            ...  \n",
       "2880399               611.40        -138.58  \n",
       "2880400              2463.31          -8.45  \n",
       "2880401               873.14          14.56  \n",
       "2880402             12968.80        5763.72  \n",
       "2880403                72.82       -5501.20  \n",
       "\n",
       "[2880404 rows x 13 columns]"
      ]
     },
     "execution_count": 36,
     "metadata": {},
     "output_type": "execute_result"
    }
   ],
   "source": []
  },
  {
   "cell_type": "code",
   "execution_count": 37,
   "id": "cd22a6fe",
   "metadata": {},
   "outputs": [
    {
     "data": {
      "text/plain": [
       "ss_quantity                 100\n",
       "ss_wholesale_cost          9901\n",
       "ss_list_price             19727\n",
       "ss_sales_price            18686\n",
       "ss_ext_discount_amt      209365\n",
       "ss_ext_sales_price       411391\n",
       "ss_ext_wholesale_cost    380588\n",
       "ss_ext_list_price        578761\n",
       "ss_ext_tax                78652\n",
       "ss_coupon_amt            209365\n",
       "ss_net_paid              463256\n",
       "ss_net_paid_inc_tax      618874\n",
       "ss_net_profit            566151\n",
       "dtype: int64"
      ]
     },
     "execution_count": 37,
     "metadata": {},
     "output_type": "execute_result"
    }
   ],
   "source": [
    "df_arr.nunique()"
   ]
  },
  {
   "cell_type": "code",
   "execution_count": null,
   "id": "09127ae0",
   "metadata": {},
   "outputs": [],
   "source": []
  }
 ],
 "metadata": {
  "kernelspec": {
   "display_name": "Python 3 (ipykernel)",
   "language": "python",
   "name": "python3"
  },
  "language_info": {
   "codemirror_mode": {
    "name": "ipython",
    "version": 3
   },
   "file_extension": ".py",
   "mimetype": "text/x-python",
   "name": "python",
   "nbconvert_exporter": "python",
   "pygments_lexer": "ipython3",
   "version": "3.9.6"
  }
 },
 "nbformat": 4,
 "nbformat_minor": 5
}
